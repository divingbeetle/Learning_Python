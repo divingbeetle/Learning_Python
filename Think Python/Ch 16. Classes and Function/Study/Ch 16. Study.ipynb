{
 "cells": [
  {
   "cell_type": "markdown",
   "id": "6a62f4ef",
   "metadata": {},
   "source": [
    "# 클래스와 함수"
   ]
  },
  {
   "cell_type": "markdown",
   "id": "c253b498",
   "metadata": {},
   "source": [
    "<br><br>\n",
    "<b>새로운 타입을 정의하고, 이를 인자로 하는 함수를 작성해봅시다.</b>"
   ]
  },
  {
   "cell_type": "markdown",
   "id": "80a0ed9a",
   "metadata": {},
   "source": [
    "---\n",
    "### 1. 시간"
   ]
  },
  {
   "cell_type": "markdown",
   "id": "8156b6a2",
   "metadata": {},
   "source": [
    "<br><br>\n",
    "<b>시간을 나타내는 클래스를 정의해 봅시다.</b>"
   ]
  },
  {
   "cell_type": "code",
   "execution_count": 1,
   "id": "287700bd",
   "metadata": {},
   "outputs": [],
   "source": [
    "class Time:\n",
    "    \"\"\"Represents the time of day.\n",
    "    \n",
    "    attributes: hour, minute, second\"\"\""
   ]
  },
  {
   "cell_type": "code",
   "execution_count": 30,
   "id": "2a47a8e0",
   "metadata": {},
   "outputs": [],
   "source": [
    "time = Time()\n",
    "time.hour = 11\n",
    "time.minute = 59\n",
    "time.second = 30"
   ]
  },
  {
   "cell_type": "markdown",
   "id": "72088c65",
   "metadata": {},
   "source": [
    "<br><br>\n",
    "<b>연습삼아 Time 오브젝트를 인자로 시간을 출력해주는 함수 print_time을 정의해 보세용</b>"
   ]
  },
  {
   "cell_type": "code",
   "execution_count": 31,
   "id": "79dea987",
   "metadata": {},
   "outputs": [],
   "source": [
    "def print_time(t):\n",
    "    print(\"{:>02}:{:>02}:{:02}\".format(t.hour, t.minute, t.second))"
   ]
  },
  {
   "cell_type": "code",
   "execution_count": 32,
   "id": "29e124fc",
   "metadata": {},
   "outputs": [
    {
     "name": "stdout",
     "output_type": "stream",
     "text": [
      "11:59:30\n"
     ]
    }
   ],
   "source": [
    "print_time(time)"
   ]
  },
  {
   "cell_type": "markdown",
   "id": "197d5215",
   "metadata": {},
   "source": [
    "<br><br>\n",
    "<b>연습삼아 시간의 순서를 비교하는 is_after함수를 정의해 보세요</b>  \n",
    "(*If문 없이 작성해보세용* )"
   ]
  },
  {
   "cell_type": "code",
   "execution_count": 42,
   "id": "34b07c87",
   "metadata": {},
   "outputs": [],
   "source": [
    "def is_after(t1, t2):\n",
    "    t1_str = str(t1.hour) + str(t1.minute) + str(t1.second)\n",
    "    t2_str = str(t2.hour) + str(t2.minute) + str(t2.second)\n",
    "    return int(t1_str) > int(t2_str)"
   ]
  },
  {
   "cell_type": "code",
   "execution_count": 43,
   "id": "34bf8c39",
   "metadata": {},
   "outputs": [],
   "source": [
    "time2 = Time()\n",
    "time2.hour = 13\n",
    "time2.minute = 39\n",
    "time2.second = 20"
   ]
  },
  {
   "cell_type": "code",
   "execution_count": 44,
   "id": "6ad87413",
   "metadata": {},
   "outputs": [
    {
     "data": {
      "text/plain": [
       "True"
      ]
     },
     "execution_count": 44,
     "metadata": {},
     "output_type": "execute_result"
    }
   ],
   "source": [
    "is_after(time2, time)"
   ]
  },
  {
   "cell_type": "markdown",
   "id": "f391acaa",
   "metadata": {},
   "source": [
    "---\n",
    "### 2. Pure한 함수"
   ]
  },
  {
   "cell_type": "markdown",
   "id": "1bc34c05",
   "metadata": {},
   "source": [
    "<br><br>\n",
    "<b>시간을 더하는 함수의 간단한 프로토타입을 정의해보겟습니당</b>"
   ]
  },
  {
   "cell_type": "code",
   "execution_count": 46,
   "id": "521bb95a",
   "metadata": {},
   "outputs": [],
   "source": [
    "def add_time(t1, t2):\n",
    "    sum = Time()\n",
    "    sum.hour = t1.hour + t2.hour\n",
    "    sum.minute = t1.minute + t2.minute\n",
    "    sum.second = t1.second + t2.second\n",
    "    return sum"
   ]
  },
  {
   "cell_type": "markdown",
   "id": "c429c22e",
   "metadata": {},
   "source": [
    "<br><br>\n",
    "<b>요 함수는 새로운 Time 오브젝트를 만들어서, 오브젝트에 대한 레퍼런스를 반환했져</b><br><br>\n",
    "<b>이런 함수를 pure한 함수라고 합니다.</b>  \n",
    "<b>전달받은 인자를 변경하지도 않고</b>  \n",
    "<b>값을 반환하는것 외에 어떤 영향도 끼치지 않기때문이져 (print()나 input() 등의 행위</b>"
   ]
  },
  {
   "cell_type": "markdown",
   "id": "e2538bb7",
   "metadata": {},
   "source": [
    "<br><br>\n",
    "<b>요 함수를 한번 테스트 해봅시다.</b>  \n",
    "<b>영화가 끝나는 시간을 한번 계산해볼게요</b>  \n",
    "<b>영화는 당연히 '몬티파이선의 성배'입니다</b>"
   ]
  },
  {
   "cell_type": "code",
   "execution_count": 47,
   "id": "b7416b27",
   "metadata": {},
   "outputs": [],
   "source": [
    "start = Time()\n",
    "start.hour = 9\n",
    "start.minute = 45\n",
    "start.second = 0"
   ]
  },
  {
   "cell_type": "code",
   "execution_count": 48,
   "id": "458d31a8",
   "metadata": {},
   "outputs": [],
   "source": [
    "duration = Time()\n",
    "duration.hour = 1\n",
    "duration.minute = 35\n",
    "duration.second = 0"
   ]
  },
  {
   "cell_type": "code",
   "execution_count": 49,
   "id": "aad5580e",
   "metadata": {},
   "outputs": [],
   "source": [
    "done = add_time(start, duration)"
   ]
  },
  {
   "cell_type": "code",
   "execution_count": 51,
   "id": "e19c0041",
   "metadata": {},
   "outputs": [
    {
     "name": "stdout",
     "output_type": "stream",
     "text": [
      "10:80:00\n"
     ]
    }
   ],
   "source": [
    "print_time(done)"
   ]
  },
  {
   "cell_type": "markdown",
   "id": "b62e4110",
   "metadata": {},
   "source": [
    "<b>80분이라니, 함수를 수정할 필요가 있겠네요</b><br><br>"
   ]
  },
  {
   "cell_type": "code",
   "execution_count": 58,
   "id": "75cd899d",
   "metadata": {},
   "outputs": [],
   "source": [
    "def add_time(t1, t2):\n",
    "    sum = Time()\n",
    "    sum.hour = t1.hour + t2.hour\n",
    "    sum.minute = t1.minute + t2.minute\n",
    "    sum.second = t1.second + t2.second\n",
    "    \n",
    "    if sum.second >= 60:\n",
    "        sum.second -= 60\n",
    "        sum.minute += 1\n",
    "    \n",
    "    if sum.minute >= 60:\n",
    "        sum.minute -= 60\n",
    "        sum.hour += 1\n",
    "        \n",
    "    return sum"
   ]
  },
  {
   "cell_type": "code",
   "execution_count": 59,
   "id": "3e5a0e51",
   "metadata": {},
   "outputs": [
    {
     "name": "stdout",
     "output_type": "stream",
     "text": [
      "11:20:00\n"
     ]
    }
   ],
   "source": [
    "done = add_time(start, duration)\n",
    "print_time(done)"
   ]
  },
  {
   "cell_type": "markdown",
   "id": "818b5f8a",
   "metadata": {},
   "source": [
    "<b>다소 함수가 복잡해졌는데, 나중에 고치도록 합시다.</b>"
   ]
  },
  {
   "cell_type": "markdown",
   "id": "98834725",
   "metadata": {},
   "source": [
    "---\n",
    "### 3. 변경자 (Modifiers)"
   ]
  },
  {
   "cell_type": "markdown",
   "id": "fdc2178f",
   "metadata": {},
   "source": [
    "<br><br>\n",
    "<b>인자로 받는 오브젝트를 변경하는 함수가 유용할 때가 있죠</b>  \n",
    "<b>이러한 함수를 modifier 라고 합니다.</b>"
   ]
  },
  {
   "cell_type": "code",
   "execution_count": 60,
   "id": "68f491df",
   "metadata": {},
   "outputs": [],
   "source": [
    "def increment(time, seconds):\n",
    "    time.second += seconds\n",
    "    \n",
    "    if sum.second >= 60:\n",
    "        sum.second -= 60\n",
    "        sum.minute += 1\n",
    "    \n",
    "    if sum.minute >= 60:\n",
    "        sum.minute -= 60\n",
    "        sum.hour += 1"
   ]
  },
  {
   "cell_type": "markdown",
   "id": "965061e6",
   "metadata": {},
   "source": [
    "<b>주어진 초만큼 시간을 늘려주는 modifier를 정의했습니다</b>"
   ]
  },
  {
   "cell_type": "markdown",
   "id": "b18eec17",
   "metadata": {},
   "source": [
    "<br><br>\n",
    "<b>이 함수는 seconds가 60 이상일때 제대로 작동하지 않습니다.</b>  \n",
    "<b>60이 넘는 초, 분을 이동시키는 과정을 한번만 진행하기 때문이에용</b>  \n",
    "<b>이 경우, while문을 쓰면 간단하게 해결 되겠지만, 효율적인 코드가 되지 않겠죠</b>  \n",
    "<b>연습삼아, 루프문 없이 잘 작동하는 increment() 함수를 정의해봅시다.</b>"
   ]
  },
  {
   "cell_type": "code",
   "execution_count": 61,
   "id": "4824b168",
   "metadata": {},
   "outputs": [],
   "source": [
    "def increment(time, seconds):\n",
    "    time.second += seconds\n",
    "    \n",
    "    time.minute += (time.second // 60)\n",
    "    time.second = (time.second % 60)\n",
    "    \n",
    "    time.hour += (time.minute // 60)\n",
    "    time.minute = (time.minute % 60)\n",
    "    \n",
    "    time.hour = (time.hour % 24)"
   ]
  },
  {
   "cell_type": "code",
   "execution_count": 62,
   "id": "6d20897d",
   "metadata": {},
   "outputs": [
    {
     "name": "stdout",
     "output_type": "stream",
     "text": [
      "11:39:20\n",
      "18:46:02\n"
     ]
    }
   ],
   "source": [
    "print_time(time)\n",
    "increment(time, 544002)\n",
    "print_time(time)"
   ]
  },
  {
   "cell_type": "markdown",
   "id": "11dfe1a9",
   "metadata": {},
   "source": [
    "<br><br>\n",
    "<b>modifier 함수가 할수 있는 모든 동작들은 pure한 함수로도 가능합니다. </b>  \n",
    "<b>pure한 함수로 이루어진 프로그램은 오류에 강합니다.<br><br> 어떤 프로그래밍 언어는 pure한 함수만 쓰는걸 강요하기도 해요</b>"
   ]
  },
  {
   "cell_type": "markdown",
   "id": "1587a219",
   "metadata": {},
   "source": [
    "<b>일반적으로 모든 함수를 pure한 형태로 정의하고,  \n",
    "    modifer의 경우는 그 편리함이 명확할 때에만 사용하는 것을 추천합니다.  \n",
    "이러한 프로그래밍 스타일을 함수형 프로그래밍 이라고 해요.</b>"
   ]
  },
  {
   "cell_type": "markdown",
   "id": "3686586f",
   "metadata": {},
   "source": [
    "<b>연습겸, pure한 버젼의 increment()함수를 정의해보세용</b>"
   ]
  },
  {
   "cell_type": "code",
   "execution_count": 63,
   "id": "0b3a3375",
   "metadata": {},
   "outputs": [],
   "source": [
    "def increment(time, seconds):\n",
    "    t = Time()\n",
    "    t.second = time.second + seconds\n",
    "    t.minute = (t.second // 60)\n",
    "    t.second = (t.second % 60)\n",
    "\n",
    "    t.minute += time.minute\n",
    "    t.hour = (t.minute // 60)\n",
    "    t.minute = (t.minute % 60)\n",
    "    \n",
    "    t.hour += time.hour\n",
    "    t.hour = t.hour % 24\n",
    "    \n",
    "    return t"
   ]
  },
  {
   "cell_type": "code",
   "execution_count": 64,
   "id": "4e76a6f3",
   "metadata": {},
   "outputs": [
    {
     "name": "stdout",
     "output_type": "stream",
     "text": [
      "18:46:02\n",
      "09:33:32\n"
     ]
    }
   ],
   "source": [
    "print_time(time)\n",
    "print_time(increment(time, 53250))"
   ]
  },
  {
   "cell_type": "markdown",
   "id": "75aaec51",
   "metadata": {},
   "source": [
    "---\n",
    "### 4. 프로토타입 vs 계획"
   ]
  },
  {
   "cell_type": "markdown",
   "id": "c8abf2ee",
   "metadata": {},
   "source": [
    "<br><br>\n",
    "<b>위에서와 같이 함수를 정의하고 프로그램을 개발해나가는 방식을 프로토타입 & 패치 라 합니다.  \n",
    "일단 간단한 프로토타입을 만들고 간단한 계산을 통해 시험해본 뒤, 오류를 고쳐나가는 거죵.</b>"
   ]
  },
  {
   "cell_type": "markdown",
   "id": "7fb919a6",
   "metadata": {},
   "source": [
    "<br><br>\n",
    "<b>이러한 방식은 해결해야 할 문제에 대한 이해도가 높지 않을때 굉장히 효울적입니다.  \n",
    "다만 코드가 과도하게 복잡해 질 수 있어요,  \n",
    "    다양한 예외사항들에 대한 수정들이 덕지덕지 붙어있다보면요.</b>"
   ]
  },
  {
   "cell_type": "markdown",
   "id": "a44c1742",
   "metadata": {},
   "source": [
    "<br><br>\n",
    "<b>반대로 문제에 대한 높은 인사이트가 있다면, 작업이 더욱 쉬워집니다.  \n",
    "Time과 관련한 문제에서, 시간은 사실상 60진수의 3자리수로 볼 수 있어요 </b>"
   ]
  },
  {
   "cell_type": "code",
   "execution_count": 65,
   "id": "dbfca13f",
   "metadata": {},
   "outputs": [],
   "source": [
    "def time_to_int(time):\n",
    "    minutes = time.hour * 60 + time.minute\n",
    "    seconds = minutes * 60 + time.second\n",
    "    return seconds"
   ]
  },
  {
   "cell_type": "code",
   "execution_count": 67,
   "id": "1a674464",
   "metadata": {},
   "outputs": [],
   "source": [
    "def int_to_time(seconds):\n",
    "    time = Time()\n",
    "    minutes, time.second = divmod(seconds, 60)\n",
    "    time.hour, time.minute = divmod(minutes, 60)\n",
    "    return time"
   ]
  },
  {
   "cell_type": "code",
   "execution_count": 69,
   "id": "8e8ad349",
   "metadata": {},
   "outputs": [
    {
     "data": {
      "text/plain": [
       "True"
      ]
     },
     "execution_count": 69,
     "metadata": {},
     "output_type": "execute_result"
    }
   ],
   "source": [
    "time_to_int(int_to_time(203455)) == 203455"
   ]
  },
  {
   "cell_type": "markdown",
   "id": "5acbf033",
   "metadata": {},
   "source": [
    "<b>add time()을 이제 간단하게 정리해봅시다.</b>"
   ]
  },
  {
   "cell_type": "code",
   "execution_count": 70,
   "id": "b0a6b36d",
   "metadata": {},
   "outputs": [],
   "source": [
    "def add_time(t1, t2):\n",
    "    seconds = time_to_int(t1) + time_to_int(t2)\n",
    "    return int_to_time(seconds)"
   ]
  },
  {
   "cell_type": "markdown",
   "id": "46653450",
   "metadata": {},
   "source": [
    "<br><br>\n",
    "<b>increment()도요</b>"
   ]
  },
  {
   "cell_type": "code",
   "execution_count": 71,
   "id": "3b658876",
   "metadata": {},
   "outputs": [],
   "source": [
    "def increment(t, s):\n",
    "    seconds = time_to_int(t) + s\n",
    "    return int_to_time(seconds)"
   ]
  },
  {
   "cell_type": "markdown",
   "id": "93819c12",
   "metadata": {},
   "source": [
    "---\n",
    "### 5. 디버깅"
   ]
  },
  {
   "cell_type": "markdown",
   "id": "5a97d6ee",
   "metadata": {},
   "source": [
    "<br><br>\n",
    "<b>Time 오브젝트는 분과 초가 0이상 60 미만, 그리고 시간이 양수일때 잘 정의되었다고 할 수 있죵  \n",
    "시간과 분은 정수여야 하고, 초의 경우는 실수여도 갠찮겠구여  \n",
    "이런 요구사항들을 invariants(불변속성)이라구 해요  \n",
    "이러한 사항들이 지켜지지 않는다면, 먼 일이 생긴거겠져</b>"
   ]
  },
  {
   "cell_type": "markdown",
   "id": "beacb888",
   "metadata": {},
   "source": [
    "<br><br>\n",
    "<b>이러한 불변속성을 확인하는 코드를 작성하는건 오류를 발견하는데 도움이 됩니당</b>"
   ]
  },
  {
   "cell_type": "code",
   "execution_count": 73,
   "id": "2168dfc5",
   "metadata": {},
   "outputs": [],
   "source": [
    "def valid_time(time):\n",
    "    if time.hour < 0 or time.minute < 0 or time.second < 0:\n",
    "        return False\n",
    "    if time.minute >= 60 or time.second >= 60:\n",
    "        return False\n",
    "    return True"
   ]
  },
  {
   "cell_type": "markdown",
   "id": "04e53515",
   "metadata": {},
   "source": [
    "<br><br>\n",
    "<b>함수의 시작마다 인자를 확인하는 이런 코드를 달아줄 수 있겠쪄 그럼</b>"
   ]
  },
  {
   "cell_type": "code",
   "execution_count": 74,
   "id": "3282f6be",
   "metadata": {},
   "outputs": [],
   "source": [
    "def add_time(t1, t2):\n",
    "    if not valid_time(t1) or not valid_time(t2):\n",
    "        raise ValueError('invalid Time object in add_time')\n",
    "    seconds = time_to_int(t1) + time_to_int(t2)\n",
    "    return int_to_time(seconds)"
   ]
  },
  {
   "cell_type": "markdown",
   "id": "8379ea16",
   "metadata": {},
   "source": [
    "<br><br>\n",
    "<b>아니면 assert statement를 사용할수있어용</b>"
   ]
  },
  {
   "cell_type": "code",
   "execution_count": 76,
   "id": "aca047a5",
   "metadata": {},
   "outputs": [],
   "source": [
    "def add_time(t1, t2):\n",
    "    assert valid_time(t1) or not valid_time(t2)\n",
    "    seconds = time_to_int(t1) + time_to_int(t2)\n",
    "    return int_to_time(seconds)"
   ]
  },
  {
   "cell_type": "markdown",
   "id": "4bc95121",
   "metadata": {},
   "source": [
    "<br><br><br><br>\n",
    "<b>End of The Chapter.</b>"
   ]
  },
  {
   "cell_type": "code",
   "execution_count": null,
   "id": "fdea6e63",
   "metadata": {},
   "outputs": [],
   "source": []
  }
 ],
 "metadata": {
  "kernelspec": {
   "display_name": "Python 3",
   "language": "python",
   "name": "python3"
  },
  "language_info": {
   "codemirror_mode": {
    "name": "ipython",
    "version": 3
   },
   "file_extension": ".py",
   "mimetype": "text/x-python",
   "name": "python",
   "nbconvert_exporter": "python",
   "pygments_lexer": "ipython3",
   "version": "3.8.8"
  }
 },
 "nbformat": 4,
 "nbformat_minor": 5
}
