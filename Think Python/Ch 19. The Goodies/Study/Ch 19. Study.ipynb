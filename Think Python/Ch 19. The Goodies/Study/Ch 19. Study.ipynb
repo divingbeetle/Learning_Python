{
 "cells": [
  {
   "cell_type": "markdown",
   "id": "e1026a9a",
   "metadata": {},
   "source": [
    "# Ch.19 파이선 꿀팁"
   ]
  },
  {
   "cell_type": "markdown",
   "id": "4b264ee4",
   "metadata": {},
   "source": [
    "<br><br>\n",
    "<b>필수적이진 않으나 코드를 이쁘고 효율적이고 간결하게 만들어주는 칭고들</b>"
   ]
  },
  {
   "cell_type": "markdown",
   "id": "92fd0d92",
   "metadata": {},
   "source": [
    "---\n",
    "### 1. 조건 표현식"
   ]
  },
  {
   "cell_type": "markdown",
   "id": "6b2b0b16",
   "metadata": {},
   "source": [
    "<br><br>\n",
    "<b>우리가 배운 조건식은 다음과 같아요</b>"
   ]
  },
  {
   "cell_type": "code",
   "execution_count": 5,
   "id": "3e75f40c",
   "metadata": {},
   "outputs": [],
   "source": [
    "import math\n",
    "x = 7"
   ]
  },
  {
   "cell_type": "code",
   "execution_count": 6,
   "id": "dd3a3b40",
   "metadata": {},
   "outputs": [],
   "source": [
    "if x > 0:\n",
    "    y = math.log(x)\n",
    "else:\n",
    "    y = float('nan')"
   ]
  },
  {
   "cell_type": "markdown",
   "id": "f9b0a7e2",
   "metadata": {},
   "source": [
    "<br><br>\n",
    "<b>조건 표현식을 이용하면 이런 문장을 더욱 간결하게 표현할 수 있답니다.</b>"
   ]
  },
  {
   "cell_type": "code",
   "execution_count": 7,
   "id": "015b69a1",
   "metadata": {},
   "outputs": [],
   "source": [
    "y = math.log(x) if x > 0 else float('nan')"
   ]
  },
  {
   "cell_type": "markdown",
   "id": "20a492dc",
   "metadata": {},
   "source": [
    "<br><br>\n",
    "<b>이런식의 코드는 마치 영어 문장을 읽듯이 자연스럽게 읽어낼 수 있져</b>"
   ]
  },
  {
   "cell_type": "markdown",
   "id": "e4be43bd",
   "metadata": {},
   "source": [
    "<br><br>\n",
    "<b>재귀함수도 마찬가지로 조건표현식으로 간결하게 나타낼 수 있답니다.</b>"
   ]
  },
  {
   "cell_type": "code",
   "execution_count": 8,
   "id": "7381c4ae",
   "metadata": {},
   "outputs": [],
   "source": [
    "def factorial(n):\n",
    "    if n == 0:\n",
    "        return 1\n",
    "    else:\n",
    "        return n * factorial(n - 1)"
   ]
  },
  {
   "cell_type": "code",
   "execution_count": 9,
   "id": "476be628",
   "metadata": {},
   "outputs": [],
   "source": [
    "def factorial(n):\n",
    "    return 1 if n == 0 else n * factorial(n - 1)"
   ]
  },
  {
   "cell_type": "markdown",
   "id": "617630ac",
   "metadata": {},
   "source": [
    "<br><br>\n",
    "<b>17장에서 살펴봤던 캥거루의 메서드도 간단하게 정리가 가능해요</b>"
   ]
  },
  {
   "cell_type": "code",
   "execution_count": 10,
   "id": "c0dcc740",
   "metadata": {},
   "outputs": [],
   "source": [
    "def __init__(self, name, contents=None):\n",
    "    self.name = name\n",
    "    if contents == None:\n",
    "        contents = []\n",
    "    self.pouch_contents = contents"
   ]
  },
  {
   "cell_type": "code",
   "execution_count": 11,
   "id": "7856d3d1",
   "metadata": {},
   "outputs": [],
   "source": [
    "def __init__(self, name, contents=None):\n",
    "    self.name = name\n",
    "    self.pouch_contents = [] if contents == None else contents"
   ]
  },
  {
   "cell_type": "markdown",
   "id": "144948d2",
   "metadata": {},
   "source": [
    "<br><br>\n",
    "<b>이런식으로, 조건식의 양 측 코드가 매우 간결하다면 조건표현식으로 바꾸는것이 훨씬 편합니다.</b>"
   ]
  },
  {
   "cell_type": "markdown",
   "id": "588947ce",
   "metadata": {},
   "source": [
    "<br><br>"
   ]
  },
  {
   "cell_type": "markdown",
   "id": "757a4605",
   "metadata": {},
   "source": [
    "---\n",
    "### 2. 리스트 표현식"
   ]
  },
  {
   "cell_type": "markdown",
   "id": "c2460c94",
   "metadata": {},
   "source": [
    "<br><br>\n",
    "<b>이전 장들에서 다양한 종류의 배열을 필터링하고 대응시키는 함수를 많이 작성했었죠  \n",
    "예를들면 문자열의 리스트를 인자로 받아 대문자로 만들어 돌려주는 다음과 같은 함수요</b>"
   ]
  },
  {
   "cell_type": "code",
   "execution_count": 12,
   "id": "fb380c31",
   "metadata": {},
   "outputs": [],
   "source": [
    "def capitalize_all(t):\n",
    "    res = []\n",
    "    for s in t:\n",
    "        res.append(s.capitalize())\n",
    "    return res"
   ]
  },
  {
   "cell_type": "markdown",
   "id": "0db84603",
   "metadata": {},
   "source": [
    "<br><br>\n",
    "<b>이러한 함수를 리스트 표현식을 통해 더욱 간결하게 바꿀 수 있답니다.</b>"
   ]
  },
  {
   "cell_type": "code",
   "execution_count": 13,
   "id": "da58b772",
   "metadata": {},
   "outputs": [],
   "source": [
    "def capitalize_all(t):\n",
    "    return [s.capitalize() for s in t]"
   ]
  },
  {
   "cell_type": "markdown",
   "id": "eb325685",
   "metadata": {},
   "source": [
    "<br><br>\n",
    "<b>배열의 대응 뿐만 아니라 필터링도 가능해요</b>"
   ]
  },
  {
   "cell_type": "code",
   "execution_count": 14,
   "id": "de537a9f",
   "metadata": {},
   "outputs": [],
   "source": [
    "def only_upper(t):\n",
    "    res = []\n",
    "    for s in t:\n",
    "        if s.isipper():\n",
    "            res.append(s)\n",
    "    return res"
   ]
  },
  {
   "cell_type": "code",
   "execution_count": 15,
   "id": "badc83b4",
   "metadata": {},
   "outputs": [],
   "source": [
    "def only_upper(t):\n",
    "    return [s for s in t if s.isuper()]"
   ]
  },
  {
   "cell_type": "markdown",
   "id": "5a7935a0",
   "metadata": {},
   "source": [
    "<br><br>\n",
    "<b>이러한 리스트 표현식은 간결하고, 가독성도 높은 편이에요  \n",
    "특히 표현하고자 하는 식이 간단하다면요.</b>"
   ]
  },
  {
   "cell_type": "markdown",
   "id": "387ea954",
   "metadata": {},
   "source": [
    "<br><br>\n",
    "<b>심지어는 일반적인 for 루프보다 훨씬 빠르기도 하답니다.</b>"
   ]
  },
  {
   "cell_type": "markdown",
   "id": "92dd7eb9",
   "metadata": {},
   "source": [
    "<br><br>\n",
    "<b>그럼에도 불구하고 리스트 표현식을 조심해야 하는이유는,  \n",
    "디버깅이 어렵기 때문이에요.\n",
    "<br><br>\n",
    "루프문 중간에 print문을 넣을 수 없기 때문에,  \n",
    "실수할 수가 없는 연산에만 사용하는 것을 추천합니다.</b>"
   ]
  },
  {
   "cell_type": "markdown",
   "id": "04b12781",
   "metadata": {},
   "source": [
    "---\n",
    "### 3. 제너레이터"
   ]
  },
  {
   "cell_type": "markdown",
   "id": "babe1335",
   "metadata": {},
   "source": [
    "<br><br>\n",
    "<b>제너레이터 표현식은 리스트 표현식과 비슷해요.  \n",
    "대괄호 대신 괄호를 사용하면 된답니다.</b>"
   ]
  },
  {
   "cell_type": "code",
   "execution_count": 16,
   "id": "4fd606ce",
   "metadata": {},
   "outputs": [],
   "source": [
    "g = (x**2 for x in range(5))"
   ]
  },
  {
   "cell_type": "code",
   "execution_count": 17,
   "id": "cb240bd8",
   "metadata": {},
   "outputs": [
    {
     "data": {
      "text/plain": [
       "<generator object <genexpr> at 0x01335370>"
      ]
     },
     "execution_count": 17,
     "metadata": {},
     "output_type": "execute_result"
    }
   ],
   "source": [
    "g"
   ]
  },
  {
   "cell_type": "markdown",
   "id": "231d98cd",
   "metadata": {},
   "source": [
    "<br><br>\n",
    "<b>제너레이터 오브젝트는 주어진 값의 배열을 순환할 수 있는 오브젝트에요 <br><br>\n",
    "다만 리스트 표현식과 달리, 제너레이터는 모든 값을 한번에 계산하지 않는답니다.  \n",
    "계산 명령을 받을 때까지 기다릴 뿐이지요</b>"
   ]
  },
  {
   "cell_type": "markdown",
   "id": "d82a48c1",
   "metadata": {},
   "source": [
    "<br><br>\n",
    "<b>제너레이터 오브젝트의 값을 얻기 위해서는 내장함수 next를 써보세요</b>"
   ]
  },
  {
   "cell_type": "code",
   "execution_count": 18,
   "id": "404d447e",
   "metadata": {},
   "outputs": [
    {
     "data": {
      "text/plain": [
       "0"
      ]
     },
     "execution_count": 18,
     "metadata": {},
     "output_type": "execute_result"
    }
   ],
   "source": [
    "next(g)"
   ]
  },
  {
   "cell_type": "code",
   "execution_count": 19,
   "id": "194b7abf",
   "metadata": {},
   "outputs": [
    {
     "data": {
      "text/plain": [
       "1"
      ]
     },
     "execution_count": 19,
     "metadata": {},
     "output_type": "execute_result"
    }
   ],
   "source": [
    "next(g)"
   ]
  },
  {
   "cell_type": "markdown",
   "id": "7460e748",
   "metadata": {},
   "source": [
    "<br><br>\n",
    "<b>제너레이터의 배열의 끝까지 도달하면, next()함수는 StopIteration exception을 내뱉어요  \n",
    "아니면 자동으로 배열을 돌아주는 for 루프를 사용할 수도 있죠</b>"
   ]
  },
  {
   "cell_type": "code",
   "execution_count": 20,
   "id": "094d2d83",
   "metadata": {},
   "outputs": [
    {
     "name": "stdout",
     "output_type": "stream",
     "text": [
      "4\n",
      "9\n",
      "16\n"
     ]
    }
   ],
   "source": [
    "for val in g:\n",
    "    print(val)"
   ]
  },
  {
   "cell_type": "code",
   "execution_count": 21,
   "id": "b0e86279",
   "metadata": {},
   "outputs": [
    {
     "ename": "StopIteration",
     "evalue": "",
     "output_type": "error",
     "traceback": [
      "\u001b[1;31m---------------------------------------------------------------------------\u001b[0m",
      "\u001b[1;31mStopIteration\u001b[0m                             Traceback (most recent call last)",
      "\u001b[1;32m<ipython-input-21-e734f8aca5ac>\u001b[0m in \u001b[0;36m<module>\u001b[1;34m\u001b[0m\n\u001b[1;32m----> 1\u001b[1;33m \u001b[0mnext\u001b[0m\u001b[1;33m(\u001b[0m\u001b[0mg\u001b[0m\u001b[1;33m)\u001b[0m\u001b[1;33m\u001b[0m\u001b[1;33m\u001b[0m\u001b[0m\n\u001b[0m",
      "\u001b[1;31mStopIteration\u001b[0m: "
     ]
    }
   ],
   "source": [
    "next(g)"
   ]
  },
  {
   "cell_type": "markdown",
   "id": "d341fc16",
   "metadata": {},
   "source": [
    "<br><br>\n",
    "<b>제너레이터 오브젝트는 배열을 어디까지 돌았는지를 기억해요,  \n",
    "그래서 for 루프도 next()함수가 끝난 곳에서 시작하죠</b>"
   ]
  },
  {
   "cell_type": "markdown",
   "id": "d7625309",
   "metadata": {},
   "source": [
    "<br><br>\n",
    "<b>제너레이터 표현식은 sum, max, min과 같은 함수들과 자주 쓰이기도 합니다.</b>"
   ]
  },
  {
   "cell_type": "code",
   "execution_count": 22,
   "id": "59d1f25b",
   "metadata": {},
   "outputs": [
    {
     "data": {
      "text/plain": [
       "30"
      ]
     },
     "execution_count": 22,
     "metadata": {},
     "output_type": "execute_result"
    }
   ],
   "source": [
    "sum(x**2 for x in range(5))"
   ]
  },
  {
   "cell_type": "markdown",
   "id": "800e6150",
   "metadata": {},
   "source": [
    "<br><br>"
   ]
  },
  {
   "cell_type": "markdown",
   "id": "3f4fac80",
   "metadata": {},
   "source": [
    "---\n",
    "### 4. any 와 all"
   ]
  },
  {
   "cell_type": "markdown",
   "id": "af857c0b",
   "metadata": {},
   "source": [
    "<br><br>"
   ]
  },
  {
   "cell_type": "markdown",
   "id": "72913ac3",
   "metadata": {},
   "source": [
    "<b>파이썬 내장함수 any는 T/F 값을 같는 배열을 인식해 T가 하나라도 있으면 True를 반환합니다.   \n",
    "    \n",
    "<b>예를들면 리스트라던지요<b></b>"
   ]
  },
  {
   "cell_type": "code",
   "execution_count": 23,
   "id": "54d3cd50",
   "metadata": {},
   "outputs": [
    {
     "data": {
      "text/plain": [
       "True"
      ]
     },
     "execution_count": 23,
     "metadata": {},
     "output_type": "execute_result"
    }
   ],
   "source": [
    "any([False, False, True])"
   ]
  },
  {
   "cell_type": "markdown",
   "id": "5e2f9bbd",
   "metadata": {},
   "source": [
    "<br><br>\n",
    "<b>가장 유용한 사용처는 제너레이터 표현식과 함께에요</b>"
   ]
  },
  {
   "cell_type": "code",
   "execution_count": 24,
   "id": "54c98ede",
   "metadata": {},
   "outputs": [
    {
     "data": {
      "text/plain": [
       "True"
      ]
     },
     "execution_count": 24,
     "metadata": {},
     "output_type": "execute_result"
    }
   ],
   "source": [
    "any(letter == 't' for letter in 'monty')"
   ]
  },
  {
   "cell_type": "markdown",
   "id": "707ea47e",
   "metadata": {},
   "source": [
    "<br><br>\n",
    "<b>위의 예시는 사실 in 연산자를 쓰는게 더 간단하지만, 다음과 같은 예시도 있어요</b>"
   ]
  },
  {
   "cell_type": "code",
   "execution_count": 25,
   "id": "4feaddfd",
   "metadata": {},
   "outputs": [],
   "source": [
    "def avoids(word, forbidden):\n",
    "    return not any(letter in forbidden for letter in word)"
   ]
  },
  {
   "cell_type": "markdown",
   "id": "67d7af42",
   "metadata": {},
   "source": [
    "<br><br>\n",
    "<b>위의 식은 단어에 금지된 글자가 있으면 단어는 금지된 단어를 피하고 있다  \n",
    "(avoid == True) 라는 말과 같아요 마치 문장과 같은 코드인거죠 </b>"
   ]
  },
  {
   "cell_type": "markdown",
   "id": "aebe3612",
   "metadata": {},
   "source": [
    "<br><br>\n",
    "<b>any를 제네레이터 표현식과 같이 쓰면 좋은 점은 이런 간결함도 있겠지만,  \n",
    "제너레이터 오브젝트의 특징으로 인해 True 값을 찾는 순간 바로 연산을 멈춘다는 게  \n",
    "가장 큰 장점이에요.    \n",
    "    \n",
    "프로그램 작동 시간을 많이 단축시켜주죠</b>"
   ]
  },
  {
   "cell_type": "markdown",
   "id": "f24c818d",
   "metadata": {},
   "source": [
    "<br><br>\n",
    "<b>또다른 내장 함수 all은 배열 안의 모든 요소가 True 여야 True를 반환해요  \n",
    "  \n",
    "연습 겸, 다음 함수를 all()을 써서 재 정의 해보세요</b>"
   ]
  },
  {
   "cell_type": "code",
   "execution_count": 27,
   "id": "5e31b6a1",
   "metadata": {},
   "outputs": [],
   "source": [
    "def uses_all(word, required):\n",
    "    for letter in required:\n",
    "        if letter not in word:\n",
    "            return False\n",
    "    return True"
   ]
  },
  {
   "cell_type": "code",
   "execution_count": 28,
   "id": "d59b5cd5",
   "metadata": {},
   "outputs": [],
   "source": [
    "def uses_all(word, required):\n",
    "    return all(letter in required for letter in word)"
   ]
  },
  {
   "cell_type": "markdown",
   "id": "6d17c0a8",
   "metadata": {},
   "source": [
    "<br><br>"
   ]
  },
  {
   "cell_type": "markdown",
   "id": "d25fb360",
   "metadata": {},
   "source": [
    "---\n",
    "### 5. 집합"
   ]
  },
  {
   "cell_type": "markdown",
   "id": "a864b963",
   "metadata": {},
   "source": [
    "<br><br>\n",
    "<b>저번에 우리는 특정 문서에는 존재하나 다른 문서에는 존재하지 않는 단어를 표현하기 위해  \n",
    "딕셔너리 자료형을 사용했지요</b>"
   ]
  },
  {
   "cell_type": "code",
   "execution_count": 29,
   "id": "e7042609",
   "metadata": {},
   "outputs": [],
   "source": [
    "def subtract(d1, d2):\n",
    "    res = dict()\n",
    "    for key in d1:\n",
    "        if key not in d2:\n",
    "            res[key] = None\n",
    "    return res"
   ]
  },
  {
   "cell_type": "markdown",
   "id": "821a1069",
   "metadata": {},
   "source": [
    "<br><br>\n",
    "<b>이 딕셔너리 의 value들은 죄다 None이지요, 딱히 사용하지 않으니까요.  \n",
    "이러한 코드로 인해 우리는 컴퓨터의 많은 저장 공간을 낭비하게 되어요</b>"
   ]
  },
  {
   "cell_type": "markdown",
   "id": "cef0290e",
   "metadata": {},
   "source": [
    "<br><br>\n",
    "<b>파이썬의 내장함수는 집합 자료형을 제공해요  \n",
    "집합 자료형은 딕셔너리 value 값이 없는 key의 모음이라고 할 수 있어요</b>"
   ]
  },
  {
   "cell_type": "markdown",
   "id": "6bc3d258",
   "metadata": {},
   "source": [
    "<br><br>\n",
    "<b>집합에 원소를 추가하는 것, 집합 내의 존재성을 확인하는것 전부 빠르답니다.</b>"
   ]
  },
  {
   "cell_type": "markdown",
   "id": "ca2287bf",
   "metadata": {},
   "source": [
    "<b>강력한 연산자들도 갖추고 있어요. 예를들면 차집합을 구하는 difference()가 있는데요  \n",
    "\\- 연산자로도 사용이 가능합니다.</b>"
   ]
  },
  {
   "cell_type": "code",
   "execution_count": 30,
   "id": "e3f929d7",
   "metadata": {},
   "outputs": [],
   "source": [
    "def subtract(d1, d2):\n",
    "    return set(d1) - set(d2)"
   ]
  },
  {
   "cell_type": "markdown",
   "id": "67abc859",
   "metadata": {},
   "source": [
    "<b>다음 함수를 집합을 통해 간결하게 만들어 볼까요</b>"
   ]
  },
  {
   "cell_type": "code",
   "execution_count": 31,
   "id": "cb3c28e6",
   "metadata": {},
   "outputs": [],
   "source": [
    "def has_duplicates(t):\n",
    "    d = {}\n",
    "    for x in t:\n",
    "        if x in d:\n",
    "            return True\n",
    "        d[x] = True\n",
    "    return False"
   ]
  },
  {
   "cell_type": "code",
   "execution_count": 32,
   "id": "37a02af7",
   "metadata": {},
   "outputs": [],
   "source": [
    "def has_duplicates(t):\n",
    "    return len(set(t)) < len(t)"
   ]
  },
  {
   "cell_type": "markdown",
   "id": "07310cb4",
   "metadata": {},
   "source": [
    "<b>이번에는 이친구도요</b>"
   ]
  },
  {
   "cell_type": "code",
   "execution_count": 33,
   "id": "91b79502",
   "metadata": {},
   "outputs": [],
   "source": [
    "def uses_only(word, available):\n",
    "    for letter in word:\n",
    "        if letter not in available:\n",
    "            return False\n",
    "    return True"
   ]
  },
  {
   "cell_type": "code",
   "execution_count": 34,
   "id": "06b1c723",
   "metadata": {},
   "outputs": [],
   "source": [
    "def uses_only(word, available):\n",
    "    return set(word) <= set(available)"
   ]
  },
  {
   "cell_type": "markdown",
   "id": "42b62b87",
   "metadata": {},
   "source": [
    "<br><br>\n",
    "<b> \\<\\= 연산자는 좌항이 우측의 부분집합 인지를 반환해줘요   </b>"
   ]
  },
  {
   "cell_type": "markdown",
   "id": "0486cbdd",
   "metadata": {},
   "source": [
    "<br><br>\n",
    "<b>연습삼아 avoids 함수를 집합을 사용해 정의해보자구요</b>"
   ]
  },
  {
   "cell_type": "code",
   "execution_count": 35,
   "id": "9935de3d",
   "metadata": {},
   "outputs": [],
   "source": [
    "def avoids(word, forbidden):\n",
    "    return set(word) - set(forbidden) == set(word)"
   ]
  },
  {
   "cell_type": "markdown",
   "id": "e639d063",
   "metadata": {},
   "source": [
    "<br><br>\n"
   ]
  },
  {
   "cell_type": "markdown",
   "id": "38c9870d",
   "metadata": {},
   "source": [
    "---\n",
    "### 6. 카운터"
   ]
  },
  {
   "cell_type": "markdown",
   "id": "ff5c953b",
   "metadata": {},
   "source": [
    "<br><br>\n",
    "<b>카운터는 집합과 같지만, 원소가 한번 이상 나타나면, 그 횟수를 기록해줘요</b>"
   ]
  },
  {
   "cell_type": "markdown",
   "id": "730fc730",
   "metadata": {},
   "source": [
    "<br><br>\n",
    "<b>수학에서 배운 중복집합을 생각한다면 이해가 쉬울 거에요 </b>"
   ]
  },
  {
   "cell_type": "code",
   "execution_count": 36,
   "id": "54f612eb",
   "metadata": {},
   "outputs": [],
   "source": [
    "from collections import Counter"
   ]
  },
  {
   "cell_type": "code",
   "execution_count": 37,
   "id": "b09d2bc6",
   "metadata": {},
   "outputs": [],
   "source": [
    "count = Counter('parrot')"
   ]
  },
  {
   "cell_type": "code",
   "execution_count": 38,
   "id": "9070abbc",
   "metadata": {},
   "outputs": [
    {
     "data": {
      "text/plain": [
       "Counter({'p': 1, 'a': 1, 'r': 2, 'o': 1, 't': 1})"
      ]
     },
     "execution_count": 38,
     "metadata": {},
     "output_type": "execute_result"
    }
   ],
   "source": [
    "count"
   ]
  },
  {
   "cell_type": "markdown",
   "id": "0af2f516",
   "metadata": {},
   "source": [
    "<br><br>\n",
    "<b>카운터는 collection module에서 정의되기 때문에 import를 해줘야한답니다.  \n",
    "Counter는 iteration을 지원하는 어떤 자료형이든 사용할 수 있어요</b>"
   ]
  },
  {
   "cell_type": "markdown",
   "id": "00a07a6c",
   "metadata": {},
   "source": [
    "<br><br>\n",
    "<b>카운터는 숫자를 value로 갖는 딕셔너리와 많은 부분 유사해요,  \n",
    "key에 대해 hash map을 사용하기에, hash가능한 오브젝트만 사용가능하다는 것도요 </b>"
   ]
  },
  {
   "cell_type": "markdown",
   "id": "d950bf8b",
   "metadata": {},
   "source": [
    "<br><br>\n",
    "<b>가장 큰 차이점은 없는 key를 호출해도 KeyError를 일으키지 않는다는거죠</b>"
   ]
  },
  {
   "cell_type": "code",
   "execution_count": 40,
   "id": "bff0559f",
   "metadata": {},
   "outputs": [
    {
     "data": {
      "text/plain": [
       "0"
      ]
     },
     "execution_count": 40,
     "metadata": {},
     "output_type": "execute_result"
    }
   ],
   "source": [
    "count['d']"
   ]
  },
  {
   "cell_type": "markdown",
   "id": "2c895992",
   "metadata": {},
   "source": [
    "<br><br>\n",
    "<b>카운터를 이용해서 is_anagram함수를 정리해보자구여</b>"
   ]
  },
  {
   "cell_type": "code",
   "execution_count": 41,
   "id": "6ccafb60",
   "metadata": {},
   "outputs": [],
   "source": [
    "def is_anagram(word1, word2):\n",
    "    return Counter(word1) == Counter(word2)"
   ]
  },
  {
   "cell_type": "markdown",
   "id": "06afe2b0",
   "metadata": {},
   "source": [
    "<br><br>\n",
    "<b>카운터는 집합과 비슷한 연산이 가능하도록 다양한 메서드가 정의되어있어요  \n",
    "특히 그중에서도 most_commond 메서드는 상당히 유용한데,  \n",
    "값과 등장빈도를 역순으로 정렬한답니다.</b>"
   ]
  },
  {
   "cell_type": "code",
   "execution_count": 42,
   "id": "b76c0d54",
   "metadata": {},
   "outputs": [
    {
     "name": "stdout",
     "output_type": "stream",
     "text": [
      "r 2\n",
      "p 1\n",
      "a 1\n"
     ]
    }
   ],
   "source": [
    "count = Counter('parrot')\n",
    "for val, freq in count.most_common(3):\n",
    "    print(val, freq)"
   ]
  },
  {
   "cell_type": "markdown",
   "id": "e23934a1",
   "metadata": {},
   "source": [
    "<br><br>"
   ]
  },
  {
   "cell_type": "markdown",
   "id": "9df53704",
   "metadata": {},
   "source": [
    "---\n",
    "### 7. Defaultdict"
   ]
  },
  {
   "cell_type": "markdown",
   "id": "33416156",
   "metadata": {},
   "source": [
    "<br><br>\n",
    "<b>collection method는 defaultdict라는 모듈도 제공하는데요,  \n",
    "defaultdict는 딕셔너리인데, 존재하지 않는 key를 호출하면, 새로운 값을 만들어요</b>"
   ]
  },
  {
   "cell_type": "markdown",
   "id": "b933800e",
   "metadata": {},
   "source": [
    "<br><br>\n",
    "<b>defaultdict를 만들때, 새로운 값을 생성하기 위한 함수를 제공해 주어요  \n",
    "이렇게 오브젝트를 만들기 위해 사용되는 함수를 팩토리라고 합니다.</b>"
   ]
  },
  {
   "cell_type": "markdown",
   "id": "2c8c1f07",
   "metadata": {},
   "source": [
    "<br><br>\n",
    "<b>리스트, 집합과 같은 타입들을 만들어주는 내장 함수도 팩토리로 쓰일 수 있답니다.</b>"
   ]
  },
  {
   "cell_type": "code",
   "execution_count": 43,
   "id": "35b18c8c",
   "metadata": {},
   "outputs": [],
   "source": [
    "from collections import defaultdict"
   ]
  },
  {
   "cell_type": "code",
   "execution_count": 51,
   "id": "5b0d49cf",
   "metadata": {},
   "outputs": [],
   "source": [
    "d = defaultdict(list)"
   ]
  },
  {
   "cell_type": "markdown",
   "id": "81401ad1",
   "metadata": {},
   "source": [
    "<br><br>\n",
    "<b>주의하세요, defaultdict의 인자는 list입니다 list()가 아니고요,  \n",
    "list는 클래스 오브젝트고 list()는 새로운 리스트에요</b>"
   ]
  },
  {
   "cell_type": "code",
   "execution_count": 52,
   "id": "f0e08ae0",
   "metadata": {},
   "outputs": [],
   "source": [
    "t = d['new key']"
   ]
  },
  {
   "cell_type": "code",
   "execution_count": 53,
   "id": "d0e50c89",
   "metadata": {},
   "outputs": [
    {
     "data": {
      "text/plain": [
       "[]"
      ]
     },
     "execution_count": 53,
     "metadata": {},
     "output_type": "execute_result"
    }
   ],
   "source": [
    "t"
   ]
  },
  {
   "cell_type": "code",
   "execution_count": 54,
   "id": "79e96876",
   "metadata": {},
   "outputs": [],
   "source": [
    "t.append('new value')"
   ]
  },
  {
   "cell_type": "code",
   "execution_count": 55,
   "id": "91c853ad",
   "metadata": {},
   "outputs": [
    {
     "data": {
      "text/plain": [
       "defaultdict(list, {'new key': ['new value']})"
      ]
     },
     "execution_count": 55,
     "metadata": {},
     "output_type": "execute_result"
    }
   ],
   "source": [
    "d"
   ]
  },
  {
   "cell_type": "markdown",
   "id": "7f4b2d25",
   "metadata": {},
   "source": [
    "<br><br>\n",
    "<b>리스트를 값으로 같는 딕셔너리를 만들다면, defaultdict를 통해 더 간단한 코딩이 가능해요</b>"
   ]
  },
  {
   "cell_type": "code",
   "execution_count": 56,
   "id": "42ee7fc6",
   "metadata": {},
   "outputs": [],
   "source": [
    "def all_anagrams(filename):\n",
    "    d = {}\n",
    "    for line in open(filename):\n",
    "        word = line.strip.lower()\n",
    "        t = signature(word)\n",
    "        if t not in d:\n",
    "            d[t] = [word]\n",
    "        else:\n",
    "            d[t].append(word)\n",
    "    return d"
   ]
  },
  {
   "cell_type": "markdown",
   "id": "71e9529a",
   "metadata": {},
   "source": [
    "<b>이 함수는 우리가 setdefault 메서드로 간결하게 만들었었죠</b>"
   ]
  },
  {
   "cell_type": "code",
   "execution_count": 57,
   "id": "a0f35c2c",
   "metadata": {},
   "outputs": [],
   "source": [
    "def all_anagrams(filename):\n",
    "    d = {}\n",
    "    for line in open(filename):\n",
    "        word = line.strip().lower()\n",
    "        t = signature(word)\n",
    "        d. setdefualt(t, []).append(word)"
   ]
  },
  {
   "cell_type": "markdown",
   "id": "c26190f7",
   "metadata": {},
   "source": [
    "<b>이 함수는 새로운 리스트를 매번 만들기 떄문에 비효율 적이에요  \n",
    "물론 리스트에 경우 별로 문제가 되지 않지만, 팩토리 함수가 복잡하면 그럴 수도 있죠</b>"
   ]
  },
  {
   "cell_type": "markdown",
   "id": "edab39e0",
   "metadata": {},
   "source": [
    "<br><br>\n",
    "<b>defaultdict를 이용한 함수는 다음과 같습니다.</b>"
   ]
  },
  {
   "cell_type": "code",
   "execution_count": 59,
   "id": "54522e61",
   "metadata": {},
   "outputs": [],
   "source": [
    "def all_anagram(filename):\n",
    "    d = defaultdict(list)\n",
    "    for line in open(filename):\n",
    "        word = line.strip().lower()\n",
    "        t = signature(word)\n",
    "        d[t].append(word)\n",
    "    return d\n"
   ]
  },
  {
   "cell_type": "markdown",
   "id": "c9231c85",
   "metadata": {},
   "source": [
    "<br><br>\n",
    "<b>다음 함수를 defaultdict를 통해 정의해보세요</b>"
   ]
  },
  {
   "cell_type": "code",
   "execution_count": 62,
   "id": "f221a713",
   "metadata": {},
   "outputs": [],
   "source": [
    "def straightflush(self):\n",
    "    d = defaultdict(PokerHand)\n",
    "    for c in self.cards:\n",
    "        d[c.suit].add_card(c)\n",
    "    for hand in d.values():\n",
    "        if len(hand.cards) < 5:\n",
    "                continue            \n",
    "        hand.make_histograms()\n",
    "        if hand.has_straight():\n",
    "            return True\n",
    "    return False"
   ]
  },
  {
   "cell_type": "markdown",
   "id": "022a4274",
   "metadata": {},
   "source": [
    "<br><br>"
   ]
  },
  {
   "cell_type": "markdown",
   "id": "4ba30a6d",
   "metadata": {},
   "source": [
    "---\n",
    "### 8. 네임드 튜플"
   ]
  },
  {
   "cell_type": "markdown",
   "id": "3d856ed6",
   "metadata": {},
   "source": [
    "<br><br>\n",
    "<b>많은 간단한 오브젝트들은 연관된 값의 집합으로 해석할 수 있어요  \n",
    "\n",
    "  \n",
    "그게 무슨말이냐 하면 우리가 정의했었던 Point와 같은 오브젝트는  \n",
    "x 와 y의 관계로 나타낼 수 있죠</b>"
   ]
  },
  {
   "cell_type": "markdown",
   "id": "3cad4b2e",
   "metadata": {},
   "source": [
    "<b>포인트 클래스를 다시 정의해볼까요</b>"
   ]
  },
  {
   "cell_type": "code",
   "execution_count": 63,
   "id": "d8c150f2",
   "metadata": {},
   "outputs": [],
   "source": [
    "class Point:\n",
    "    \n",
    "    def __init__(self, x=0, y=0):\n",
    "        self.x = x\n",
    "        self.y = y\n",
    "        \n",
    "    def __str__(self):\n",
    "        return f'{self.x}, {self.y}'"
   ]
  },
  {
   "cell_type": "markdown",
   "id": "6dc8e914",
   "metadata": {},
   "source": [
    "<br><br>\n",
    "<b>적은 양의 정보에 비해 너무 많은 양의 코드가 소비되었죠  \n",
    "좀더 간단하게 할 순 없을까요</b>"
   ]
  },
  {
   "cell_type": "code",
   "execution_count": 64,
   "id": "59874aae",
   "metadata": {},
   "outputs": [],
   "source": [
    "from collections import namedtuple"
   ]
  },
  {
   "cell_type": "code",
   "execution_count": 65,
   "id": "6e26e757",
   "metadata": {},
   "outputs": [],
   "source": [
    "Point = namedtuple('Point', ['x', 'y'])"
   ]
  },
  {
   "cell_type": "markdown",
   "id": "13fe7ac8",
   "metadata": {},
   "source": [
    "<br><br>\n",
    "<b> 좌측은 만들고자 하는 클래스의 이름을,  \n",
    "우측은 오브젝트가 가질 어트리뷰트의 이름을 문자열로 제시하기만 하면 되어요</b>"
   ]
  },
  {
   "cell_type": "markdown",
   "id": "065cebe9",
   "metadata": {},
   "source": [
    "<b>namedtuple의 반환값은 클래스 오브젝트가 됩니다.</b>"
   ]
  },
  {
   "cell_type": "code",
   "execution_count": 66,
   "id": "fd6bc238",
   "metadata": {},
   "outputs": [
    {
     "data": {
      "text/plain": [
       "__main__.Point"
      ]
     },
     "execution_count": 66,
     "metadata": {},
     "output_type": "execute_result"
    }
   ],
   "source": [
    "Point"
   ]
  },
  {
   "cell_type": "markdown",
   "id": "f7429225",
   "metadata": {},
   "source": [
    "<br><br>\n",
    "<b>Point는 자동으로 init 과 str 메서드를 제공하기에 작성할 필요가 없어요</b>"
   ]
  },
  {
   "cell_type": "code",
   "execution_count": 67,
   "id": "956205cf",
   "metadata": {},
   "outputs": [],
   "source": [
    "p = Point(1, 2)"
   ]
  },
  {
   "cell_type": "code",
   "execution_count": 68,
   "id": "ce879493",
   "metadata": {},
   "outputs": [
    {
     "data": {
      "text/plain": [
       "Point(x=1, y=2)"
      ]
     },
     "execution_count": 68,
     "metadata": {},
     "output_type": "execute_result"
    }
   ],
   "source": [
    "p"
   ]
  },
  {
   "cell_type": "markdown",
   "id": "fa800a46",
   "metadata": {},
   "source": [
    "<br><br>\n",
    "<b>namedtuple은 tuple이지만 class지요</b>"
   ]
  },
  {
   "cell_type": "code",
   "execution_count": 69,
   "id": "59331017",
   "metadata": {},
   "outputs": [
    {
     "data": {
      "text/plain": [
       "(1, 2)"
      ]
     },
     "execution_count": 69,
     "metadata": {},
     "output_type": "execute_result"
    }
   ],
   "source": [
    "p.x, p.y"
   ]
  },
  {
   "cell_type": "code",
   "execution_count": 70,
   "id": "749c0410",
   "metadata": {},
   "outputs": [
    {
     "data": {
      "text/plain": [
       "(1, 2)"
      ]
     },
     "execution_count": 70,
     "metadata": {},
     "output_type": "execute_result"
    }
   ],
   "source": [
    "p[0], p[1]"
   ]
  },
  {
   "cell_type": "code",
   "execution_count": 71,
   "id": "b1ea49ee",
   "metadata": {},
   "outputs": [
    {
     "data": {
      "text/plain": [
       "(1, 2)"
      ]
     },
     "execution_count": 71,
     "metadata": {},
     "output_type": "execute_result"
    }
   ],
   "source": [
    "x, y = p\n",
    "x, y"
   ]
  },
  {
   "cell_type": "markdown",
   "id": "d79a3e1f",
   "metadata": {},
   "source": [
    "<br><br>\n",
    "<b>이처럼 namedtuple은 간단한 클래스를 만들기에 딱 좋답니다.</b>"
   ]
  },
  {
   "cell_type": "markdown",
   "id": "02c9f61e",
   "metadata": {},
   "source": [
    "<br><br>\n",
    "<b>하지만 프로그램을 작성하다 보면  \n",
    "간단한 클래스로 만들었던 것이 새로운 메서드가 필요할 수도 있죠</b>"
   ]
  },
  {
   "cell_type": "markdown",
   "id": "4c1520a8",
   "metadata": {},
   "source": [
    "<b>그럴땐 namedtuple을 상속하는 새로운 클래스를 만드는게 방법일 수 있어요</b>"
   ]
  },
  {
   "cell_type": "code",
   "execution_count": 73,
   "id": "ab98f5d3",
   "metadata": {},
   "outputs": [],
   "source": [
    "class Pointier(Point):\n",
    "    \"\"\"add more\"\"\""
   ]
  },
  {
   "cell_type": "markdown",
   "id": "71d85b89",
   "metadata": {},
   "source": [
    "<b>아니면 간단하게 전통적인 방법의 기존 클래스로 바꿔주던가여</b>"
   ]
  },
  {
   "cell_type": "markdown",
   "id": "6f042e33",
   "metadata": {},
   "source": [
    "<br><br>"
   ]
  },
  {
   "cell_type": "markdown",
   "id": "c1c95c29",
   "metadata": {},
   "source": [
    "---\n",
    "### 9. 키워드 인자 모으기"
   ]
  },
  {
   "cell_type": "markdown",
   "id": "e3935ff3",
   "metadata": {},
   "source": [
    "<br><br>\n",
    "<b>우리는 모든 인자를 튜플로 바꿔서 전달하는 함수를 본 적이 있어요</b>"
   ]
  },
  {
   "cell_type": "code",
   "execution_count": 74,
   "id": "7bb9c575",
   "metadata": {},
   "outputs": [],
   "source": [
    "def printall(*args):\n",
    "    print(args)"
   ]
  },
  {
   "cell_type": "markdown",
   "id": "c0d52cb4",
   "metadata": {},
   "source": [
    "<b>우리는 이 함수를 어떠한 수의 위치 인자를 통해서라도 호출할 수 있져</b>"
   ]
  },
  {
   "cell_type": "code",
   "execution_count": 75,
   "id": "85436211",
   "metadata": {},
   "outputs": [
    {
     "name": "stdout",
     "output_type": "stream",
     "text": [
      "(1, 2.0, '3')\n"
     ]
    }
   ],
   "source": [
    "printall(1, 2.0, '3')"
   ]
  },
  {
   "cell_type": "markdown",
   "id": "3a3047dc",
   "metadata": {},
   "source": [
    "<br><br>\n",
    "<b>하지만 * 연산자는 키워드 인자까지 모아주지는 않아요</b>"
   ]
  },
  {
   "cell_type": "code",
   "execution_count": 76,
   "id": "b0b9e795",
   "metadata": {},
   "outputs": [
    {
     "ename": "TypeError",
     "evalue": "printall() got an unexpected keyword argument 'third'",
     "output_type": "error",
     "traceback": [
      "\u001b[1;31m---------------------------------------------------------------------------\u001b[0m",
      "\u001b[1;31mTypeError\u001b[0m                                 Traceback (most recent call last)",
      "\u001b[1;32m<ipython-input-76-3d2b1b58182e>\u001b[0m in \u001b[0;36m<module>\u001b[1;34m\u001b[0m\n\u001b[1;32m----> 1\u001b[1;33m \u001b[0mprintall\u001b[0m\u001b[1;33m(\u001b[0m\u001b[1;36m1\u001b[0m\u001b[1;33m,\u001b[0m \u001b[1;36m20\u001b[0m\u001b[1;33m,\u001b[0m \u001b[0mthird\u001b[0m\u001b[1;33m=\u001b[0m\u001b[1;34m'3'\u001b[0m\u001b[1;33m)\u001b[0m\u001b[1;33m\u001b[0m\u001b[1;33m\u001b[0m\u001b[0m\n\u001b[0m",
      "\u001b[1;31mTypeError\u001b[0m: printall() got an unexpected keyword argument 'third'"
     ]
    }
   ],
   "source": [
    "printall(1, 20, third='3')"
   ]
  },
  {
   "cell_type": "markdown",
   "id": "9932b456",
   "metadata": {},
   "source": [
    "<br><br>\n",
    "<b>그럴 땐 ** 연산자를 쓰면 됩니당.</b>"
   ]
  },
  {
   "cell_type": "code",
   "execution_count": 77,
   "id": "4130094f",
   "metadata": {},
   "outputs": [],
   "source": [
    "def printall(*args, **kwargs):\n",
    "    print(args, kwargs)"
   ]
  },
  {
   "cell_type": "code",
   "execution_count": 78,
   "id": "a2ccf548",
   "metadata": {},
   "outputs": [
    {
     "name": "stdout",
     "output_type": "stream",
     "text": [
      "(1, 2.0) {'third': '3'}\n"
     ]
    }
   ],
   "source": [
    "printall(1, 2.0, third='3')"
   ]
  },
  {
   "cell_type": "markdown",
   "id": "009b61fe",
   "metadata": {},
   "source": [
    "<b>이때의 결과값은 딕셔너리가 되어요</b>"
   ]
  },
  {
   "cell_type": "markdown",
   "id": "1200f913",
   "metadata": {},
   "source": [
    "<br><br>\n",
    "<b>반대로 키워드와 값이 존재하는 딕셔너리가 있을때,  \n",
    "** 연산자로 묶음을 풀어주면 함수에 인자로 전달할 수가 있답니다. </b>"
   ]
  },
  {
   "cell_type": "code",
   "execution_count": 79,
   "id": "9028ab01",
   "metadata": {},
   "outputs": [],
   "source": [
    "d = dict(x=1, y=2)"
   ]
  },
  {
   "cell_type": "code",
   "execution_count": 80,
   "id": "227a0ae7",
   "metadata": {},
   "outputs": [
    {
     "data": {
      "text/plain": [
       "Point(x=1, y=2)"
      ]
     },
     "execution_count": 80,
     "metadata": {},
     "output_type": "execute_result"
    }
   ],
   "source": [
    "Point(**d)"
   ]
  },
  {
   "cell_type": "markdown",
   "id": "c2546f95",
   "metadata": {},
   "source": [
    "<br><br>\n",
    "<b>묶음을 풀지 않고 전달하면, 딕셔너리 전체가 Point의 첫번째 인자로 들어갈거에요</b>"
   ]
  },
  {
   "cell_type": "code",
   "execution_count": 81,
   "id": "5b190616",
   "metadata": {},
   "outputs": [],
   "source": [
    "d = dict(x=1, y=2)"
   ]
  },
  {
   "cell_type": "code",
   "execution_count": 82,
   "id": "6047a4e8",
   "metadata": {},
   "outputs": [
    {
     "ename": "TypeError",
     "evalue": "__new__() missing 1 required positional argument: 'y'",
     "output_type": "error",
     "traceback": [
      "\u001b[1;31m---------------------------------------------------------------------------\u001b[0m",
      "\u001b[1;31mTypeError\u001b[0m                                 Traceback (most recent call last)",
      "\u001b[1;32m<ipython-input-82-cfbcab96c95b>\u001b[0m in \u001b[0;36m<module>\u001b[1;34m\u001b[0m\n\u001b[1;32m----> 1\u001b[1;33m \u001b[0mPoint\u001b[0m\u001b[1;33m(\u001b[0m\u001b[0md\u001b[0m\u001b[1;33m)\u001b[0m\u001b[1;33m\u001b[0m\u001b[1;33m\u001b[0m\u001b[0m\n\u001b[0m",
      "\u001b[1;31mTypeError\u001b[0m: __new__() missing 1 required positional argument: 'y'"
     ]
    }
   ],
   "source": [
    "Point(d)"
   ]
  },
  {
   "cell_type": "markdown",
   "id": "c459eb60",
   "metadata": {},
   "source": [
    "<br><br><br><br>\n",
    "<b>End of the chapter.</b>  \n",
    "열시미햇다"
   ]
  },
  {
   "cell_type": "code",
   "execution_count": null,
   "id": "ef38f77b",
   "metadata": {},
   "outputs": [],
   "source": []
  }
 ],
 "metadata": {
  "kernelspec": {
   "display_name": "Python 3",
   "language": "python",
   "name": "python3"
  },
  "language_info": {
   "codemirror_mode": {
    "name": "ipython",
    "version": 3
   },
   "file_extension": ".py",
   "mimetype": "text/x-python",
   "name": "python",
   "nbconvert_exporter": "python",
   "pygments_lexer": "ipython3",
   "version": "3.8.8"
  }
 },
 "nbformat": 4,
 "nbformat_minor": 5
}
