{
 "cells": [
  {
   "cell_type": "markdown",
   "id": "fa7c6440",
   "metadata": {},
   "source": [
    "# Ch 14. Files\n"
   ]
  },
  {
   "cell_type": "markdown",
   "id": "af4750e1",
   "metadata": {},
   "source": [
    "#### 파일을 통한 데이타 영구저장을 배와요"
   ]
  },
  {
   "cell_type": "markdown",
   "id": "c48f137e",
   "metadata": {},
   "source": [
    "---\n",
    "### 1. 파일 읽고 쓰기"
   ]
  },
  {
   "cell_type": "markdown",
   "id": "43142022",
   "metadata": {},
   "source": [
    "<b> 파일을 작성하려면, 'w'를 두번째 인자로 파일을 열면 되어요 </b>"
   ]
  },
  {
   "cell_type": "code",
   "execution_count": 56,
   "id": "ac66281a",
   "metadata": {},
   "outputs": [],
   "source": [
    "fout = open('output.txt', 'w', encoding = 'UTF-8')"
   ]
  },
  {
   "cell_type": "markdown",
   "id": "c9f054e9",
   "metadata": {},
   "source": [
    "> 이미 해당 파일이 존재할 경우, write mode로 파일을 열면 기존 데이터가 사라져요"
   ]
  },
  {
   "cell_type": "markdown",
   "id": "e91bdda1",
   "metadata": {},
   "source": [
    "<b>write 모듈로 파일에 데이타를 추가할수 잇어요</b><br><br>\n",
    "<b>return 값은 글자수가 됩니다</b>"
   ]
  },
  {
   "cell_type": "code",
   "execution_count": 57,
   "id": "94b2a210",
   "metadata": {},
   "outputs": [
    {
     "data": {
      "text/plain": [
       "18"
      ]
     },
     "execution_count": 57,
     "metadata": {},
     "output_type": "execute_result"
    }
   ],
   "source": [
    "line1 = \"부끄럼 많은 생애를 보냈습니다.\\n\"\n",
    "fout.write(line1)"
   ]
  },
  {
   "cell_type": "code",
   "execution_count": 58,
   "id": "f33c26d2",
   "metadata": {},
   "outputs": [],
   "source": [
    "line2 = \"저는 인간의 삶이라는 것을 도무지 이해할 수 없습니다.\\n\"\n",
    "fout.write(line2)\n",
    "fout.close()"
   ]
  },
  {
   "cell_type": "markdown",
   "id": "79aaa3ae",
   "metadata": {},
   "source": [
    "<br><br><b>작성이 끝나면 파일을 닫아주면 됩니당</b>"
   ]
  },
  {
   "cell_type": "markdown",
   "id": "aefe34f2",
   "metadata": {},
   "source": [
    "fout.close()"
   ]
  },
  {
   "cell_type": "markdown",
   "id": "47aa3115",
   "metadata": {},
   "source": [
    "---\n",
    "### 2. 포멧 연산자"
   ]
  },
  {
   "cell_type": "markdown",
   "id": "bb192151",
   "metadata": {},
   "source": [
    "<br><br><b>write 모듈의 인자는 string 타입이여야 하는데요</b>  \n",
    "<b>int 값을 파일에 추가하고 싶다면 str()을 사용하는게 간단합니당 </b>"
   ]
  },
  {
   "cell_type": "code",
   "execution_count": 7,
   "id": "1333b0cd",
   "metadata": {},
   "outputs": [],
   "source": []
  },
  {
   "cell_type": "markdown",
   "id": "3c872cd4",
   "metadata": {},
   "source": [
    "<br><br><b>포멧 연산자 % 를 사용하는 것도 방법입니다</b>"
   ]
  },
  {
   "cell_type": "code",
   "execution_count": 8,
   "id": "8f9924ba",
   "metadata": {},
   "outputs": [
    {
     "data": {
      "text/plain": [
       "'42'"
      ]
     },
     "execution_count": 8,
     "metadata": {},
     "output_type": "execute_result"
    }
   ],
   "source": [
    "camels = 42\n",
    "'%d' % camels"
   ]
  },
  {
   "cell_type": "markdown",
   "id": "2f5731b6",
   "metadata": {},
   "source": [
    "<b>'%d'는 format sequence에용</b>  \n",
    "<b>변수 camel이 decimal integer 여야함을 나타냅니당 </b><br><br>    \n",
    "\n",
    "<b>문자열 내부 어디에나 위치할 수 있다는게 format sequence의 장점입니다</b>"
   ]
  },
  {
   "cell_type": "code",
   "execution_count": 9,
   "id": "bb99e2eb",
   "metadata": {},
   "outputs": [
    {
     "data": {
      "text/plain": [
       "'I have spotted 42 camels.'"
      ]
     },
     "execution_count": 9,
     "metadata": {},
     "output_type": "execute_result"
    }
   ],
   "source": [
    "'I have spotted %d camels.' % camels"
   ]
  },
  {
   "cell_type": "markdown",
   "id": "4188f0a6",
   "metadata": {},
   "source": [
    "<br><br><b>tuple을 통해 2개 이상의 format sequence를 사용할 수 있습니당</b>  \n",
    "(%d : int, %g : float, %s : string)"
   ]
  },
  {
   "cell_type": "code",
   "execution_count": 10,
   "id": "72117988",
   "metadata": {},
   "outputs": [
    {
     "data": {
      "text/plain": [
       "'In 3 years I have spotted 0.1 camels.'"
      ]
     },
     "execution_count": 10,
     "metadata": {},
     "output_type": "execute_result"
    }
   ],
   "source": [
    "'In %d years I have spotted %g %s.' % (3, 0.1, 'camels')"
   ]
  },
  {
   "cell_type": "markdown",
   "id": "fad80abc",
   "metadata": {},
   "source": [
    "<br><br><b>이런 건 안돼요</b>"
   ]
  },
  {
   "cell_type": "code",
   "execution_count": 11,
   "id": "3b20a11c",
   "metadata": {},
   "outputs": [
    {
     "ename": "TypeError",
     "evalue": "not enough arguments for format string",
     "output_type": "error",
     "traceback": [
      "\u001B[1;31m---------------------------------------------------------------------------\u001B[0m",
      "\u001B[1;31mTypeError\u001B[0m                                 Traceback (most recent call last)",
      "\u001B[1;32m<ipython-input-11-77052faf97d7>\u001B[0m in \u001B[0;36m<module>\u001B[1;34m\u001B[0m\n\u001B[1;32m----> 1\u001B[1;33m \u001B[1;34m'%d %d %d'\u001B[0m \u001B[1;33m%\u001B[0m \u001B[1;33m(\u001B[0m\u001B[1;36m1\u001B[0m\u001B[1;33m,\u001B[0m \u001B[1;36m2\u001B[0m\u001B[1;33m)\u001B[0m \u001B[1;31m#피연산자 간 갯수가 맞지 않음\u001B[0m\u001B[1;33m\u001B[0m\u001B[1;33m\u001B[0m\u001B[0m\n\u001B[0m\u001B[0;32m      2\u001B[0m \u001B[1;33m\u001B[0m\u001B[0m\n",
      "\u001B[1;31mTypeError\u001B[0m: not enough arguments for format string"
     ]
    }
   ],
   "source": [
    "'%d %d %d' % (1, 2) #피연산자 간 갯수가 맞지 않음"
   ]
  },
  {
   "cell_type": "code",
   "execution_count": null,
   "id": "189cb77b",
   "metadata": {},
   "outputs": [],
   "source": [
    "'%d' % 'dollars' #피연산자 간 타입이 맞지 않음"
   ]
  },
  {
   "cell_type": "markdown",
   "id": "9e8ce318",
   "metadata": {},
   "source": [
    "<b>참고할것</b>  \n",
    "[포멧 연산자에 대해](https://docs.python.org/3/library/stdtypes.html#printf-style-string-formatting)  \n",
    "[스트링 내부 모듈](https://docs.python.org/3/library/stdtypes.html#str.format)"
   ]
  },
  {
   "cell_type": "markdown",
   "id": "7c347820",
   "metadata": {},
   "source": [
    "---\n",
    "### 3. 파일 이름과 경로"
   ]
  },
  {
   "cell_type": "markdown",
   "id": "c17e365c",
   "metadata": {},
   "source": [
    "<br><br><b>파일은 디렉토리(aka 폴더)를 통해 정리됩니다</b>  <br><br>\n",
    "<b>모든 프로그램은 자신이 존재하는 current directory를 갖고 있는데용 </b>  \n",
    "<b>대부분의 작업은 current directory를 기본으로 수행됩니다.</b>  \n",
    "<b>파이썬에서 파일을 여는 작업이 하나의 예시입니당</b>  \n",
    "  \n",
    "<b>파이썬에 내장된 os 모듈은 파일과 디렉토리에 관한 다양한 함수들을 제공합니다</b>  \n",
    "<b>일례로, os.getcwd() 함수는 currenct directory의 이름을 반환합니다</b>  \n",
    "(CWD: Current Working Directory)"
   ]
  },
  {
   "cell_type": "code",
   "execution_count": null,
   "id": "36c7c268",
   "metadata": {},
   "outputs": [],
   "source": [
    "import os\n",
    "cwd = os.getcwd()\n",
    "cwd"
   ]
  },
  {
   "cell_type": "markdown",
   "id": "c03d8b7d",
   "metadata": {},
   "source": [
    "<b> 파일이나 디렉토리의 이름을 뜻하는 위와 같은 문자열을 경로(path)라 합니다</b><br><br>  \n",
    "<b> 'memo.txt'와 같이 간단한 파일 이름도 경로의 일종입니다.</b>  \n",
    "<b> 이러한 경로를 relative path 라고 합니다</b>  \n",
    "<b> 반대로, 위의 결과값과 같은 경로를 absolute path 라고 합니다.</b>  <br><br>\n",
    "<b> 함수를 이용해 파일의 absolute path를 찾아봅시당</b>"
   ]
  },
  {
   "cell_type": "code",
   "execution_count": null,
   "id": "776664a7",
   "metadata": {},
   "outputs": [],
   "source": [
    "f = open('memo.txt', 'w')\n",
    "f. close()\n",
    "\n",
    "os.path.abspath('memo.txt')"
   ]
  },
  {
   "cell_type": "markdown",
   "id": "4ec5a819",
   "metadata": {},
   "source": [
    "<br><br>\n",
    "<b>os.path에는 이외에도 파일 이름과 경로에 관한 다양한 함수들이 드러가 잇어용</b>"
   ]
  },
  {
   "cell_type": "markdown",
   "id": "aaa4f5f8",
   "metadata": {},
   "source": [
    "<b>파일 유무 확인</b>"
   ]
  },
  {
   "cell_type": "code",
   "execution_count": null,
   "id": "5bacae9e",
   "metadata": {},
   "outputs": [],
   "source": [
    "os.path.exists('memo.txt')"
   ]
  },
  {
   "cell_type": "markdown",
   "id": "fee66016",
   "metadata": {},
   "source": [
    "<br><br>\n",
    "<b>디렉토리인지 파일인지 체크</b>  \n",
    "(os.path.isfile() 을 이용해도 갠차늠)"
   ]
  },
  {
   "cell_type": "code",
   "execution_count": null,
   "id": "56e3ecb5",
   "metadata": {},
   "outputs": [],
   "source": [
    "os.path.isdir('memo.txt')"
   ]
  },
  {
   "cell_type": "code",
   "execution_count": null,
   "id": "601ed34e",
   "metadata": {},
   "outputs": [],
   "source": [
    "os.path.isdir('C:/Users/이승민/Documents/Learning_Python/Think Python 2/Chap 14. Files')"
   ]
  },
  {
   "cell_type": "markdown",
   "id": "fc42cc64",
   "metadata": {},
   "source": [
    "<br><br>\n",
    "<b>디렉토리에 존재하는 모든 파일 반환</b>"
   ]
  },
  {
   "cell_type": "code",
   "execution_count": null,
   "id": "dd441321",
   "metadata": {},
   "outputs": [],
   "source": [
    "os.listdir(cwd)"
   ]
  },
  {
   "cell_type": "markdown",
   "id": "61767d99",
   "metadata": {},
   "source": [
    "<br><br>\n",
    "<b>하위 디렉토리까지 탐색하는 다음과 같은 함수를 정의할수도 있지요</b>"
   ]
  },
  {
   "cell_type": "code",
   "execution_count": null,
   "id": "f250944f",
   "metadata": {},
   "outputs": [],
   "source": [
    "def walk(dirname):\n",
    "    for name in os.listdir(dirname):\n",
    "        path = os.path.join(dirname,name)\n",
    "    \n",
    "        if os.path.isfile(path):\n",
    "            print(path)\n",
    "        else:\n",
    "            walk(path)"
   ]
  },
  {
   "cell_type": "code",
   "execution_count": null,
   "id": "15ec7693",
   "metadata": {},
   "outputs": [],
   "source": [
    "walk('C:/Users/이승민/Documents/Learning_Python/Think Python 2')"
   ]
  },
  {
   "cell_type": "markdown",
   "id": "18441bd7",
   "metadata": {},
   "source": [
    "<b>사실 os 모듈 안에 비슷한게 있습니다 </b>"
   ]
  },
  {
   "cell_type": "code",
   "execution_count": null,
   "id": "26374f94",
   "metadata": {},
   "outputs": [],
   "source": [
    "for (roots, dirs, files) in os.walk('C:/Users/이승민/Documents/Learning_Python/Think Python 2'):\n",
    "    for filename in files:\n",
    "        print(os.path.join(roots, filename))"
   ]
  },
  {
   "cell_type": "markdown",
   "id": "6eb22a88",
   "metadata": {},
   "source": [
    "---\n",
    "### 4. 예외처리"
   ]
  },
  {
   "cell_type": "markdown",
   "id": "26ad7221",
   "metadata": {},
   "source": [
    "<br><br><b>파일을 읽고 쓰다 보면 많은 오류를 맞이할 수 있는데용</b><br><br>\n",
    "<b>존재하지 않는 파일을 열려고 시도한다면 다음과 같은 일이 발생합니당</b>"
   ]
  },
  {
   "cell_type": "code",
   "execution_count": null,
   "id": "46c52e11",
   "metadata": {},
   "outputs": [],
   "source": [
    "fin = open('invisible_dragon')"
   ]
  },
  {
   "cell_type": "markdown",
   "id": "4f95380d",
   "metadata": {},
   "source": [
    "<br><br>\n",
    "<b>권한이 없는 파일도요</b>"
   ]
  },
  {
   "cell_type": "markdown",
   "id": "8d375a6f",
   "metadata": {},
   "source": [
    "```python\n",
    "fin = open('confidential_file')\n",
    "```  \n",
    "PermissionError:"
   ]
  },
  {
   "cell_type": "markdown",
   "id": "59da405e",
   "metadata": {},
   "source": [
    "<br><br>\n",
    "**이러한 오류를 피하기 위해 os.path.exists나 os.path.isfile 과 같은 함수를 쓸 수 도 있겠으나,**  \n",
    "**매번 체크하는것도 힘들기 마련이져**  \n",
    "  \n",
    "**그래서 한번 명령을 실행해보고, 문제가 생기면 다른 행동을 하는,**  \n",
    "**다소 무책임한? 방법도 있답니다.**"
   ]
  },
  {
   "cell_type": "code",
   "execution_count": null,
   "id": "38845574",
   "metadata": {},
   "outputs": [],
   "source": [
    "try:\n",
    "    fin = open('invisible_dragon')\n",
    "except:\n",
    "    print(\"Something went wrong.\")"
   ]
  },
  {
   "cell_type": "markdown",
   "id": "d1d2773f",
   "metadata": {},
   "source": [
    "**이와 같은 예외 처리 방법을 Exception Catching 이라고 해요**  \n"
   ]
  },
  {
   "cell_type": "markdown",
   "id": "8cfaaf17",
   "metadata": {},
   "source": [
    "---\n",
    "### 5. 데이터베이스"
   ]
  },
  {
   "cell_type": "markdown",
   "id": "c4e69ba4",
   "metadata": {},
   "source": [
    "<br><br>\n",
    "<b>데이터베이스는 데이터의 저장을 위해 구성된 파일입니다.</b>  \n",
    "  \n",
    "<b>dbm 모듈은 데이터베이스 파일을 다루는데 필요한 도구들을 제공합니다</b>"
   ]
  },
  {
   "cell_type": "code",
   "execution_count": null,
   "id": "1e412692",
   "metadata": {},
   "outputs": [],
   "source": [
    "import dbm"
   ]
  },
  {
   "cell_type": "code",
   "execution_count": null,
   "id": "255d752b",
   "metadata": {},
   "outputs": [],
   "source": [
    "db = dbm.open('captions', 'c')"
   ]
  },
  {
   "cell_type": "markdown",
   "id": "d06a4b43",
   "metadata": {},
   "source": [
    "<b>파일과 같이 'c'인자를 이용해 간단하게 데이타베이스를 만들 수 잇습니다</b>  \n",
    "(C for Creating)  \n",
    "    \n",
    "<br><br>  \n",
    "<b>이렇게 만든 데이타베이스는 딕셔너리와 같이 사용할 수 있어요</b>"
   ]
  },
  {
   "cell_type": "code",
   "execution_count": null,
   "id": "039f8c80",
   "metadata": {},
   "outputs": [],
   "source": [
    "db['boris.png'] = 'Photo of Boris Johnson.'"
   ]
  },
  {
   "cell_type": "code",
   "execution_count": null,
   "id": "9ad3ebf0",
   "metadata": {},
   "outputs": [],
   "source": [
    "db['boris.png']"
   ]
  },
  {
   "cell_type": "markdown",
   "id": "1cd8fdf6",
   "metadata": {},
   "source": [
    "<b>결과값은 bytes object가 됩니다</b>"
   ]
  },
  {
   "cell_type": "markdown",
   "id": "069f4a36",
   "metadata": {},
   "source": [
    "<br></br>\n",
    "<b>새로운 값을 할당하면 기존 값은 없어져요</b>"
   ]
  },
  {
   "cell_type": "code",
   "execution_count": null,
   "id": "eccb8eac",
   "metadata": {},
   "outputs": [],
   "source": [
    "db['boris.png'] = 'Photo of Boris Johnson eating an ice cream'\n",
    "db['boris.png']"
   ]
  },
  {
   "cell_type": "markdown",
   "id": "13cd2d71",
   "metadata": {},
   "source": [
    "<br><br>\n",
    "<b>keys, items 와 같은 딕셔너리 메서드들은 데이터베이스에 적용되지 않습니다. </b>  \n",
    "<b>그래도 iteration은 가능해요</b>"
   ]
  },
  {
   "cell_type": "code",
   "execution_count": null,
   "id": "a221051c",
   "metadata": {},
   "outputs": [],
   "source": [
    "for key in db.keys():\n",
    "    print(key, db[key])"
   ]
  },
  {
   "cell_type": "markdown",
   "id": "ecc2dda5",
   "metadata": {},
   "source": [
    "<b>끝나면 잘 닫아줍시다.</b>"
   ]
  },
  {
   "cell_type": "code",
   "execution_count": null,
   "id": "56ffb70a",
   "metadata": {},
   "outputs": [],
   "source": [
    "db.close()"
   ]
  },
  {
   "cell_type": "markdown",
   "id": "df26a2ac",
   "metadata": {},
   "source": [
    "---\n",
    "### 6. 피클"
   ]
  },
  {
   "cell_type": "markdown",
   "id": "37f66536",
   "metadata": {},
   "source": [
    "<br><br>\n",
    "<b>dbm 모듈의 단점은, key와 value가 string이나 byte가 아니면 에러가 난다는 겁니다.</b>  \n",
    "<b>그럴땐 pickle 모듈이 도움이 되는데요, 저장에 적합한 타입으로 변환을 알아서 해줍니당</b>  \n",
    "<br><br>\n",
    "<b>예시로 pickle.dumps() 는 오브젝트를 적절한 문자열로 바꿔주어요</b>"
   ]
  },
  {
   "cell_type": "code",
   "execution_count": null,
   "id": "0da4d951",
   "metadata": {},
   "outputs": [],
   "source": [
    "import pickle"
   ]
  },
  {
   "cell_type": "code",
   "execution_count": null,
   "id": "16952a3e",
   "metadata": {},
   "outputs": [],
   "source": [
    "t = [1, 2, 3]\n",
    "pickle.dumps(t)"
   ]
  },
  {
   "cell_type": "markdown",
   "id": "94cad684",
   "metadata": {},
   "source": [
    "<b>이게 뭔지 싸우자는 건가 싶지만, pickle은 읽을 수 있습니다.</b>"
   ]
  },
  {
   "cell_type": "code",
   "execution_count": null,
   "id": "688278b6",
   "metadata": {},
   "outputs": [],
   "source": [
    "t1 = [1, 2, 3]\n",
    "s = pickle.dumps(t1)\n",
    "t2 = pickle.loads(s)\n",
    "\n",
    "t2"
   ]
  },
  {
   "cell_type": "markdown",
   "id": "5f251170",
   "metadata": {},
   "source": [
    "<b>당연하지만, 다음이 성립합니다.</b>"
   ]
  },
  {
   "cell_type": "code",
   "execution_count": null,
   "id": "9303e634",
   "metadata": {},
   "outputs": [],
   "source": [
    "t1 == t2"
   ]
  },
  {
   "cell_type": "code",
   "execution_count": null,
   "id": "5c23feb2",
   "metadata": {},
   "outputs": [],
   "source": [
    "t1 is t2"
   ]
  },
  {
   "cell_type": "markdown",
   "id": "9468e008",
   "metadata": {},
   "source": [
    "---\n",
    "### 7. 파이프"
   ]
  },
  {
   "cell_type": "markdown",
   "id": "02679cff",
   "metadata": {},
   "source": [
    "<br><br>\n",
    "<b>대부분의 운영체제는 명령형 인터페이스fmf (Command Line Interface, AKA.Shell) 제공합니다</b><br><br>\n",
    "<b>파이프 오브젝트를 이용하면 shell에서의 명령을 파이썬에서 수행할 수 있습니다.</b>"
   ]
  },
  {
   "cell_type": "markdown",
   "id": "9621fbce",
   "metadata": {},
   "source": [
    "<b>생략</b>"
   ]
  },
  {
   "cell_type": "markdown",
   "id": "907f4f14",
   "metadata": {},
   "source": [
    "<br><br>\n",
    "<b>End of the Chapter</b>"
   ]
  },
  {
   "cell_type": "code",
   "execution_count": null,
   "id": "52a34023",
   "metadata": {},
   "outputs": [],
   "source": []
  }
 ],
 "metadata": {
  "kernelspec": {
   "display_name": "Python 3",
   "language": "python",
   "name": "python3"
  },
  "language_info": {
   "codemirror_mode": {
    "name": "ipython",
    "version": 3
   },
   "file_extension": ".py",
   "mimetype": "text/x-python",
   "name": "python",
   "nbconvert_exporter": "python",
   "pygments_lexer": "ipython3",
   "version": "3.8.8"
  }
 },
 "nbformat": 4,
 "nbformat_minor": 5
}