{
 "cells": [
  {
   "cell_type": "markdown",
   "id": "5e6a9f51",
   "metadata": {},
   "source": [
    "# 클래스와 메서드"
   ]
  },
  {
   "cell_type": "markdown",
   "id": "51f62a72",
   "metadata": {},
   "source": [
    "<br><br>\n",
    "<b>지금까지 한 건 제대로된 객체 지향이 아니엿슴니다</b>"
   ]
  },
  {
   "cell_type": "markdown",
   "id": "c2f9e377",
   "metadata": {},
   "source": [
    "---\n",
    "### 1. 객체지향적 특징"
   ]
  },
  {
   "cell_type": "markdown",
   "id": "042453a8",
   "metadata": {},
   "source": [
    "<br><br>\n",
    "<b>파이썬은 객체 지향적 프로그래밍 언어입니다.  \n",
    "그래서 다음과 같은 특징을 가지고 있어요.</b>"
   ]
  },
  {
   "cell_type": "markdown",
   "id": "8b83e5cc",
   "metadata": {},
   "source": [
    "+ 프로그램이 클래스와 매서드를 정의할수 잇다\n",
    "+ 대부분의 연산이 오브젝트간의 연산으로 표현될 수 있다\n",
    "+ 오브젝트는 현실을 표현하기 위해, 메서드는 현실의 관계를 표현하기 위해 사용될수잇다 "
   ]
  },
  {
   "cell_type": "markdown",
   "id": "bd95b808",
   "metadata": {},
   "source": [
    "<br><br>\n",
    "<b>우리는 현실의 시간을 표현하는 방식을 위해 Time이라는 클래스를 정의했었죵  \n",
    "  \n",
    "Time 클래스를 인자로 받는 다양한 함수들도 정의했었고요  \n",
    "    \n",
    "메서드는 특정한 클래스에 종속된 함수입니다.  \n",
    "클래스의 안에서 정의되어 함수와 다른 몇몇 구문들을 사용할 수 있긴 하나,  \n",
    "기존의 함수와 엄격하게는 큰 차이가 없습니다.  \n",
    "  \n",
    "하지만 메서드를 사용하면 더 간결하고 구조가 잘 들어나는 코드를 짤 수 잇어요  \n",
    "그러니 지금까지 작성해왔단 함수들을 메서드로 바꿔보는 연습을 해 봅시다.</b>"
   ]
  },
  {
   "cell_type": "markdown",
   "id": "50e27cec",
   "metadata": {},
   "source": [
    "---\n",
    "### 2. 프린트"
   ]
  },
  {
   "cell_type": "markdown",
   "id": "746e4ee8",
   "metadata": {},
   "source": [
    "<br><br>\n",
    "<b>앞에서 우리가 정의한 다음 클래스와 함수를 봅시다.</b>"
   ]
  },
  {
   "cell_type": "code",
   "execution_count": 1,
   "id": "bdb89d46",
   "metadata": {},
   "outputs": [],
   "source": [
    "class Time:\n",
    "    \"\"\"Represents the time of the day.\n",
    "    \"\"\""
   ]
  },
  {
   "cell_type": "code",
   "execution_count": 2,
   "id": "9b21a1f3",
   "metadata": {},
   "outputs": [],
   "source": [
    "def print_time(time):\n",
    "    print(\"{:>02}:{:>02}:{:02}\".format(time.hour, time.minute, time.second))"
   ]
  },
  {
   "cell_type": "code",
   "execution_count": 41,
   "id": "a5a940e0",
   "metadata": {},
   "outputs": [
    {
     "name": "stdout",
     "output_type": "stream",
     "text": [
      "09:45:00\n"
     ]
    }
   ],
   "source": [
    "start = Time()\n",
    "start.hour = 9\n",
    "start.minute = 45\n",
    "start.second = 00\n",
    "print_time(start)"
   ]
  },
  {
   "cell_type": "markdown",
   "id": "96294335",
   "metadata": {},
   "source": [
    "<br><br>\n",
    "<b>우리의 함수 print_time()을 메서드로 만들기 위해서는  \n",
    "클래스 안에서 함수를 정의하기만 하면 됩니당</b>"
   ]
  },
  {
   "cell_type": "code",
   "execution_count": 10,
   "id": "46ef1d90",
   "metadata": {},
   "outputs": [],
   "source": [
    "class Time:\n",
    "    def print_time(time):\n",
    "        print(\"{:>02}:{:>02}:{:02}\".format(time.hour, time.minute, time.second))"
   ]
  },
  {
   "cell_type": "markdown",
   "id": "4f929bd0",
   "metadata": {},
   "source": [
    "<br><br>\n",
    "<b>이 메서드를 호출하는 방법에는 두가지가 있는데요<br><br>\n",
    "첫번째 방법은 잘 안쓰이는 방법인데용, 함수의 syntax를 사용하는겁니다.</b>"
   ]
  },
  {
   "cell_type": "code",
   "execution_count": 11,
   "id": "452e6d4d",
   "metadata": {},
   "outputs": [
    {
     "name": "stdout",
     "output_type": "stream",
     "text": [
      "09:45:00\n"
     ]
    }
   ],
   "source": [
    "Time.print_time(start)"
   ]
  },
  {
   "cell_type": "markdown",
   "id": "41dfc1ab",
   "metadata": {},
   "source": [
    "<b>Time은 클래스의 이름을, print_time은 메서드를, start는 넘겨줄 인자를 뜻하지요</b>"
   ]
  },
  {
   "cell_type": "markdown",
   "id": "07feae9c",
   "metadata": {},
   "source": [
    "<br><br>\n",
    "<b>두 번째 방법은 메서드의 syntax를 쓰는거에요</b>"
   ]
  },
  {
   "cell_type": "code",
   "execution_count": 12,
   "id": "b264c013",
   "metadata": {},
   "outputs": [
    {
     "name": "stdout",
     "output_type": "stream",
     "text": [
      "09:45:00\n"
     ]
    }
   ],
   "source": [
    "start.print_time()"
   ]
  },
  {
   "cell_type": "markdown",
   "id": "7cb93dcb",
   "metadata": {},
   "source": [
    "<b>print_time은 여기서도 메서드를 뜻하고, start는 메서드를 호출한 오브젝트를 뜻해요  \n",
    "이러한 오브젝트를 서브젝트 라 합니당<br><br>\n",
    "메서드 안에서, 서브젝트는 메서드의 첫번째 인자가 됩니다.  \n",
    "여기서는 start가 time에 할당이 되는거지요</b>"
   ]
  },
  {
   "cell_type": "markdown",
   "id": "048c77d9",
   "metadata": {},
   "source": [
    "<b>이러한 원리로 인해,  \n",
    "메서드의 첫번째 인자의 이름을 self로 짓는것이 하나의 관례입니다.</b>"
   ]
  },
  {
   "cell_type": "code",
   "execution_count": 13,
   "id": "e34b7d6b",
   "metadata": {},
   "outputs": [],
   "source": [
    "class Time:\n",
    "    def print_time(self):\n",
    "        print(\"{:>02}:{:>02}:{:02}\".format(self.hour, self.minute, self.second))"
   ]
  },
  {
   "cell_type": "markdown",
   "id": "ce448f83",
   "metadata": {},
   "source": [
    "<br><br>\n",
    "<b>이러한 맥락 안에서, 함수와 메서드의 차이를 다음과 같이 생각할 수 있어요  \n",
    "print_time(start)는 함수에게 프린트할 오브젝트 start를 제시하는거라면  \n",
    "start.print.time()은 start라는 오브젝트에게, 자기자신을 프린트 하라는 명령인거죠</b>"
   ]
  },
  {
   "cell_type": "markdown",
   "id": "b821169f",
   "metadata": {},
   "source": [
    "<b>이게 무슨 차이인가... 싶겠지만 책임을 함수가 아닌 오브젝트에게 넘기는것이  \n",
    "코드의 유지, 보수, 재활용을 쉽게 만들어 주기도 한답니다.</b>"
   ]
  },
  {
   "cell_type": "markdown",
   "id": "7618c2a6",
   "metadata": {},
   "source": [
    "<b>연습 겸 저번장에서 정의한 time_to_int 함수를 메서드로 만들어보세요,  \n",
    "int_to_time은요? 라는 의문이 들 수 있지만,, 그 친구는 클래스를 인자로 받지 않으니 생략합시다</b>"
   ]
  },
  {
   "cell_type": "code",
   "execution_count": 15,
   "id": "e8f9beba",
   "metadata": {},
   "outputs": [],
   "source": [
    "class Time:\n",
    "    def print_time(self):\n",
    "        print(\"{:>02}:{:>02}:{:02}\".format(self.hour, self.minute, self.second))\n",
    "    def time_to_int(self):\n",
    "        minutes = self.hour * 60 + self.minute\n",
    "        seconds = minutes * 60 + self.second\n",
    "        return seconds"
   ]
  },
  {
   "cell_type": "markdown",
   "id": "8e5c8eb1",
   "metadata": {},
   "source": [
    "---\n",
    "### 3. 또다른 예시"
   ]
  },
  {
   "cell_type": "markdown",
   "id": "009747d7",
   "metadata": {},
   "source": [
    "<br><br>\n",
    "<b>저번 장의 increment 함수를 메서드로 바꿔봅시다</b>"
   ]
  },
  {
   "cell_type": "code",
   "execution_count": 24,
   "id": "8cc8b7c4",
   "metadata": {},
   "outputs": [],
   "source": [
    "def int_to_time(seconds):\n",
    "    time = Time()\n",
    "    minutes, time.second = divmod(seconds, 60)\n",
    "    time.hour, time.minute = divmod(minutes, 60)\n",
    "    return time"
   ]
  },
  {
   "cell_type": "code",
   "execution_count": 31,
   "id": "b23ebdb1",
   "metadata": {},
   "outputs": [],
   "source": [
    "class Time:\n",
    "    def print_time(self):\n",
    "        print(\"{:>02}:{:>02}:{:02}\".format(self.hour, self.minute, self.second))\n",
    "    def time_to_int(self):\n",
    "        minutes = self.hour * 60 + self.minute\n",
    "        seconds = minutes * 60 + self.second\n",
    "        return seconds\n",
    "    def increment(self, seconds):\n",
    "        seconds += self.time_to_int()\n",
    "        return int_to_time(seconds)"
   ]
  },
  {
   "cell_type": "code",
   "execution_count": 42,
   "id": "cef56a42",
   "metadata": {},
   "outputs": [
    {
     "name": "stdout",
     "output_type": "stream",
     "text": [
      "09:45:00\n"
     ]
    }
   ],
   "source": [
    "start.print_time()"
   ]
  },
  {
   "cell_type": "code",
   "execution_count": 43,
   "id": "d89c1cd1",
   "metadata": {},
   "outputs": [],
   "source": [
    "end = start.increment(1337)"
   ]
  },
  {
   "cell_type": "code",
   "execution_count": 44,
   "id": "4f03b0b2",
   "metadata": {},
   "outputs": [
    {
     "name": "stdout",
     "output_type": "stream",
     "text": [
      "10:07:17\n"
     ]
    }
   ],
   "source": [
    "end.print_time()"
   ]
  },
  {
   "cell_type": "markdown",
   "id": "0db745d4",
   "metadata": {},
   "source": [
    "<b>increment 메서드의 첫번째 인자는 메서드를 호출한 자기자신, 서브젝트이며,  \n",
    "두번째 인자는 늘어날 초가 됩니당  \n",
    "일부러 에러를 일으켜 보면 무슨 말인지 이해가 더 잘될거에용</b>"
   ]
  },
  {
   "cell_type": "code",
   "execution_count": 37,
   "id": "17c5acd7",
   "metadata": {},
   "outputs": [
    {
     "ename": "TypeError",
     "evalue": "increment() takes 2 positional arguments but 3 were given",
     "output_type": "error",
     "traceback": [
      "\u001b[1;31m---------------------------------------------------------------------------\u001b[0m",
      "\u001b[1;31mTypeError\u001b[0m                                 Traceback (most recent call last)",
      "\u001b[1;32m<ipython-input-37-a8fd8b8bdfbc>\u001b[0m in \u001b[0;36m<module>\u001b[1;34m\u001b[0m\n\u001b[1;32m----> 1\u001b[1;33m \u001b[0mend\u001b[0m \u001b[1;33m=\u001b[0m \u001b[0mstart\u001b[0m\u001b[1;33m.\u001b[0m\u001b[0mincrement\u001b[0m\u001b[1;33m(\u001b[0m\u001b[1;36m1337\u001b[0m\u001b[1;33m,\u001b[0m \u001b[1;36m460\u001b[0m\u001b[1;33m)\u001b[0m\u001b[1;33m\u001b[0m\u001b[1;33m\u001b[0m\u001b[0m\n\u001b[0m",
      "\u001b[1;31mTypeError\u001b[0m: increment() takes 2 positional arguments but 3 were given"
     ]
    }
   ],
   "source": [
    "end = start.increment(1337, 460)"
   ]
  },
  {
   "cell_type": "markdown",
   "id": "5eab66eb",
   "metadata": {},
   "source": [
    "<br><br>\n",
    "<b>전 장의 is_after 함수를 메서드로 바꿔봅시당.  \n",
    "is_after은 두가지 오브젝트를 인자로 받았었죠?  \n",
    "이런 경우에는 other라는 변수명을 쓰는것이 국룰이랍니다.</b>"
   ]
  },
  {
   "cell_type": "code",
   "execution_count": 40,
   "id": "72909b75",
   "metadata": {},
   "outputs": [],
   "source": [
    "class Time:\n",
    "    def print_time(self):\n",
    "        print(\"{:>02}:{:>02}:{:02}\".format(self.hour, self.minute, self.second))\n",
    "    def time_to_int(self):\n",
    "        minutes = self.hour * 60 + self.minute\n",
    "        seconds = minutes * 60 + self.second\n",
    "        return seconds\n",
    "    def increment(self, seconds):\n",
    "        seconds += self.time_to_int()\n",
    "        return int_to_time(seconds)\n",
    "    def is_after(self, other):\n",
    "        return self.time_to_int() > other.time_to_int()"
   ]
  },
  {
   "cell_type": "code",
   "execution_count": 45,
   "id": "2781f443",
   "metadata": {},
   "outputs": [
    {
     "data": {
      "text/plain": [
       "True"
      ]
     },
     "execution_count": 45,
     "metadata": {},
     "output_type": "execute_result"
    }
   ],
   "source": [
    "end.is_after(start)"
   ]
  },
  {
   "cell_type": "markdown",
   "id": "a650ed0a",
   "metadata": {},
   "source": [
    "---\n",
    "### 4. init 메서드"
   ]
  },
  {
   "cell_type": "markdown",
   "id": "f0421118",
   "metadata": {},
   "source": [
    "<br><br>\n",
    "<b>init 메서드 (initlization)은 인스턴스가 만들어질때 호출되는 특별한 메서드애요  \n",
    "정확한 이름은 \\_\\_init\\_\\_이지요 </b>"
   ]
  },
  {
   "cell_type": "code",
   "execution_count": 46,
   "id": "ae03eb0a",
   "metadata": {},
   "outputs": [],
   "source": [
    "class Time:\n",
    "    def __init__(self, hour=0, minute=0, second=0):\n",
    "        self.hour = hour\n",
    "        self.minute = minute\n",
    "        self.second = second\n",
    "    def print_time(self):\n",
    "        print(\"{:>02}:{:>02}:{:02}\".format(self.hour, self.minute, self.second))\n",
    "    def time_to_int(self):\n",
    "        minutes = self.hour * 60 + self.minute\n",
    "        seconds = minutes * 60 + self.second\n",
    "        return seconds\n",
    "    def increment(self, seconds):\n",
    "        seconds += self.time_to_int()\n",
    "        return int_to_time(seconds)\n",
    "    def is_after(self, other):\n",
    "        return self.time_to_int() > other.time_to_int()"
   ]
  },
  {
   "cell_type": "markdown",
   "id": "090876a2",
   "metadata": {},
   "source": [
    "<b>init 메서드의 인자들은 어트리뷰트와 같은 이름으로 하는게 약간 국룰입니당</b>"
   ]
  },
  {
   "cell_type": "markdown",
   "id": "3fb9aaa7",
   "metadata": {},
   "source": [
    "<b>인자들을 optional 하게 정의했기 때문에 다음이 성립합니당</b>"
   ]
  },
  {
   "cell_type": "code",
   "execution_count": 47,
   "id": "e1910489",
   "metadata": {},
   "outputs": [
    {
     "name": "stdout",
     "output_type": "stream",
     "text": [
      "00:00:00\n"
     ]
    }
   ],
   "source": [
    "time = Time()\n",
    "time.print_time()"
   ]
  },
  {
   "cell_type": "code",
   "execution_count": 48,
   "id": "920647f3",
   "metadata": {},
   "outputs": [
    {
     "name": "stdout",
     "output_type": "stream",
     "text": [
      "09:00:00\n"
     ]
    }
   ],
   "source": [
    "time = Time(9)\n",
    "time.print_time()"
   ]
  },
  {
   "cell_type": "code",
   "execution_count": 49,
   "id": "2e59a141",
   "metadata": {},
   "outputs": [
    {
     "name": "stdout",
     "output_type": "stream",
     "text": [
      "09:45:00\n"
     ]
    }
   ],
   "source": [
    "time = Time(9, 45)\n",
    "time.print_time()"
   ]
  },
  {
   "cell_type": "markdown",
   "id": "6762ad51",
   "metadata": {},
   "source": [
    "---\n",
    "### 5. str 메서드"
   ]
  },
  {
   "cell_type": "markdown",
   "id": "50437392",
   "metadata": {},
   "source": [
    "<br><br>\n",
    "<b>\\_\\_str\\_\\_ 메서드는 init 과 같은 특별한 메서드입니당  \n",
    "str 메서드는 오브젝트를 나타내는 문자열을 반환해요</b>"
   ]
  },
  {
   "cell_type": "code",
   "execution_count": 61,
   "id": "95b3fb1b",
   "metadata": {},
   "outputs": [],
   "source": [
    "class Time:\n",
    "    def __init__(self, hour=0, minute=0, second=0):\n",
    "        self.hour = hour\n",
    "        self.minute = minute\n",
    "        self.second = second\n",
    "    def __str__(self):\n",
    "        return (\"{:>02}:{:>02}:{:02}\".format(self.hour, self.minute, self.second))\n",
    "    def time_to_int(self):\n",
    "        minutes = self.hour * 60 + self.minute\n",
    "        seconds = minutes * 60 + self.second\n",
    "        return seconds\n",
    "    def increment(self, seconds):\n",
    "        seconds += self.time_to_int()\n",
    "        return int_to_time(seconds)\n",
    "    def is_after(self, other):\n",
    "        return self.time_to_int() > other.time_to_int()"
   ]
  },
  {
   "cell_type": "markdown",
   "id": "804f15cb",
   "metadata": {},
   "source": [
    "<b>그게 무슨 말이냐면,, 다음이 성립한다는 말이에요</b>"
   ]
  },
  {
   "cell_type": "code",
   "execution_count": 62,
   "id": "16abf8c6",
   "metadata": {},
   "outputs": [],
   "source": [
    "time = Time(9, 45)"
   ]
  },
  {
   "cell_type": "code",
   "execution_count": 63,
   "id": "7c1524c6",
   "metadata": {},
   "outputs": [
    {
     "name": "stdout",
     "output_type": "stream",
     "text": [
      "09:45:00\n"
     ]
    }
   ],
   "source": [
    "print(time)"
   ]
  },
  {
   "cell_type": "markdown",
   "id": "8b2027e6",
   "metadata": {},
   "source": [
    "<br><br>\n",
    "<b>오브젝트를 print하면 파이선은 자덩으로 str메서드를 호출합니다</b>"
   ]
  },
  {
   "cell_type": "markdown",
   "id": "aaa384ee",
   "metadata": {},
   "source": [
    "<br><br>\n",
    "<b>연습겸 Point 클래스의 init과 str메서드를 정의해보세용</b>"
   ]
  },
  {
   "cell_type": "code",
   "execution_count": 79,
   "id": "010c3c1e",
   "metadata": {},
   "outputs": [],
   "source": [
    "class Point:\n",
    "    def __init__(self, x, y):\n",
    "        self.x = x\n",
    "        self.y = y\n",
    "    def __str__(self):\n",
    "        return str((self.x, self.y))"
   ]
  },
  {
   "cell_type": "code",
   "execution_count": 80,
   "id": "4521780c",
   "metadata": {},
   "outputs": [],
   "source": [
    "p1 = Point(3, 4)"
   ]
  },
  {
   "cell_type": "code",
   "execution_count": 81,
   "id": "67a9351b",
   "metadata": {
    "scrolled": true
   },
   "outputs": [
    {
     "name": "stdout",
     "output_type": "stream",
     "text": [
      "(3, 4)\n"
     ]
    }
   ],
   "source": [
    "print(p1)"
   ]
  },
  {
   "cell_type": "markdown",
   "id": "42bc4fb6",
   "metadata": {},
   "source": [
    "<br><br>"
   ]
  },
  {
   "cell_type": "markdown",
   "id": "eda7b832",
   "metadata": {},
   "source": [
    "---\n",
    "### 6. 연산자 오버로딩 "
   ]
  },
  {
   "cell_type": "markdown",
   "id": "243df313",
   "metadata": {},
   "source": [
    "<br><br>\n",
    "<b>특별한 메서드를 정의함으로서,  \n",
    "각종 연산자들이 클래스의 오브젝트에 대해 어떻게 행동할 지를 정의할 수 있어요</b>"
   ]
  },
  {
   "cell_type": "markdown",
   "id": "91528205",
   "metadata": {},
   "source": [
    "<br><br>\n",
    "<b>예를들어, \\_\\_add\\_\\_ 메서드를 통해 Time 클래스 오브젝트에 대한 + 연산이 가능해져용</b>"
   ]
  },
  {
   "cell_type": "code",
   "execution_count": 86,
   "id": "f07c46b7",
   "metadata": {},
   "outputs": [],
   "source": [
    "class Time:\n",
    "    def __init__(self, hour=0, minute=0, second=0):\n",
    "        self.hour = hour\n",
    "        self.minute = minute\n",
    "        self.second = second\n",
    "    def __str__(self):\n",
    "        return (\"{:>02}:{:>02}:{:02}\".format(self.hour, self.minute, self.second))\n",
    "    def __add__(self, other):\n",
    "        seconds = self.time_to_int() + other.time_to_int()\n",
    "        return int_to_time(seconds)\n",
    "    def time_to_int(self):\n",
    "        minutes = self.hour * 60 + self.minute\n",
    "        seconds = minutes * 60 + self.second\n",
    "        return seconds\n",
    "    def increment(self, seconds):\n",
    "        seconds += self.time_to_int()\n",
    "        return int_to_time(seconds)\n",
    "    def is_after(self, other):\n",
    "        return self.time_to_int() > other.time_to_int()"
   ]
  },
  {
   "cell_type": "code",
   "execution_count": 87,
   "id": "174eaf6a",
   "metadata": {},
   "outputs": [],
   "source": [
    "start = Time(9, 45)"
   ]
  },
  {
   "cell_type": "code",
   "execution_count": 88,
   "id": "7987dcf3",
   "metadata": {},
   "outputs": [],
   "source": [
    "duration = Time(1, 35)"
   ]
  },
  {
   "cell_type": "code",
   "execution_count": 89,
   "id": "4af1314b",
   "metadata": {},
   "outputs": [
    {
     "name": "stdout",
     "output_type": "stream",
     "text": [
      "11:20:00\n"
     ]
    }
   ],
   "source": [
    "print(start + duration)"
   ]
  },
  {
   "cell_type": "markdown",
   "id": "892ce214",
   "metadata": {},
   "source": [
    "<br><br><br><br>\n",
    "<b>이런식으로 다양한 연산자에 대해 행동을 정의해주는 것을 연산자 오버로딩 이라 해요  \n",
    "파이썬 내의 다양한 연산자들에 대한 특별한 메서드는 다음 링크를 참고하세요</b>"
   ]
  },
  {
   "cell_type": "markdown",
   "id": "94bb7be2",
   "metadata": {},
   "source": [
    "[specialnames](https://docs.python.org/3/reference/datamodel.html#specialnames)"
   ]
  },
  {
   "cell_type": "markdown",
   "id": "78a20c74",
   "metadata": {},
   "source": [
    "<br><br>\n",
    "<b>연습 겸 Point 클래스의 add메서드를 정의해봅시다.</b>"
   ]
  },
  {
   "cell_type": "code",
   "execution_count": 95,
   "id": "8d68ea71",
   "metadata": {},
   "outputs": [],
   "source": [
    "class Point:\n",
    "    def __init__(self, x, y):\n",
    "        self.x = x\n",
    "        self.y = y\n",
    "    def __str__(self):\n",
    "        return str((self.x, self.y))\n",
    "    def __add__(self, other):\n",
    "        sum = Point(self.x + other.x, self.y + other.y)\n",
    "        return sum"
   ]
  },
  {
   "cell_type": "code",
   "execution_count": 96,
   "id": "a69bc87b",
   "metadata": {},
   "outputs": [],
   "source": [
    "P1 = Point(3, 4)\n",
    "P2 = Point(5, 3)"
   ]
  },
  {
   "cell_type": "code",
   "execution_count": 97,
   "id": "7b7f664c",
   "metadata": {},
   "outputs": [
    {
     "name": "stdout",
     "output_type": "stream",
     "text": [
      "(8, 7)\n"
     ]
    }
   ],
   "source": [
    "print(P1 + P2)"
   ]
  },
  {
   "cell_type": "markdown",
   "id": "0858ad5c",
   "metadata": {},
   "source": [
    "<br><br>"
   ]
  },
  {
   "cell_type": "markdown",
   "id": "c90fdb74",
   "metadata": {},
   "source": [
    "---\n",
    "### 7. 타입 기반 디스패치"
   ]
  },
  {
   "cell_type": "markdown",
   "id": "5922a9b5",
   "metadata": {},
   "source": [
    "<br><br>\n",
    "<b>add 메서드를 통해서 우리는 두개의 타임 오브젝트를 더해보았어용,  \n",
    "근데 타임 오브젝트 말고 숫자를 더하고 싶으면 어떻게할까요</b>"
   ]
  },
  {
   "cell_type": "code",
   "execution_count": 102,
   "id": "60aff3f2",
   "metadata": {},
   "outputs": [],
   "source": [
    "class Time:\n",
    "    def __init__(self, hour=0, minute=0, second=0):\n",
    "        self.hour = hour\n",
    "        self.minute = minute\n",
    "        self.second = second\n",
    "        \n",
    "    def __str__(self):\n",
    "        return (\"{:>02}:{:>02}:{:02}\".format(self.hour, self.minute, self.second))\n",
    "    \n",
    "    def __add__(self, other):\n",
    "        if isinstance(other, Time):\n",
    "            return self.add_time(other)\n",
    "        else:\n",
    "            return self.increment(other)\n",
    "        \n",
    "    def add_time(self, other):\n",
    "        seconds = self.time_to_int() + other.time_to_int()\n",
    "        return int_to_time(seconds)\n",
    "    def increment(self, seconds):\n",
    "        seconds += self.time_to_int()\n",
    "        return int_to_time(seconds)\n",
    "    \n",
    "    def time_to_int(self):\n",
    "        minutes = self.hour * 60 + self.minute\n",
    "        seconds = minutes * 60 + self.second\n",
    "        return seconds\n",
    "\n",
    "    def is_after(self, other):\n",
    "        return self.time_to_int() > other.time_to_int()"
   ]
  },
  {
   "cell_type": "markdown",
   "id": "d76a3755",
   "metadata": {},
   "source": [
    "<br><br>\n",
    "<b>위와 같이isinstance(value, class) 를 통해 Time 오브젝트면 add_time메서드를  \n",
    "숫자면 increment 메서드를 호출하는 방식을 사용할 수 있어요</b>"
   ]
  },
  {
   "cell_type": "markdown",
   "id": "acc3d5fe",
   "metadata": {},
   "source": [
    "<b>이러한 방식을 타입 기반 디스패치 라고 합니다.  \n",
    "인자의 타입을 바탕으로 연산을 다른 메서드로 보내주니까요</b>"
   ]
  },
  {
   "cell_type": "markdown",
   "id": "6fc3de57",
   "metadata": {},
   "source": [
    "<b>한번 계산이나 해볼까요</b>"
   ]
  },
  {
   "cell_type": "code",
   "execution_count": 103,
   "id": "b335e2ef",
   "metadata": {},
   "outputs": [],
   "source": [
    "start = Time(9, 45)"
   ]
  },
  {
   "cell_type": "code",
   "execution_count": 104,
   "id": "2090c537",
   "metadata": {},
   "outputs": [],
   "source": [
    "duration = Time(1, 35)"
   ]
  },
  {
   "cell_type": "code",
   "execution_count": 105,
   "id": "400d001f",
   "metadata": {},
   "outputs": [
    {
     "name": "stdout",
     "output_type": "stream",
     "text": [
      "11:20:00\n"
     ]
    }
   ],
   "source": [
    "print(start + duration)"
   ]
  },
  {
   "cell_type": "code",
   "execution_count": 106,
   "id": "b00c598c",
   "metadata": {},
   "outputs": [
    {
     "name": "stdout",
     "output_type": "stream",
     "text": [
      "10:07:17\n"
     ]
    }
   ],
   "source": [
    "print(start + 1337)"
   ]
  },
  {
   "cell_type": "code",
   "execution_count": 107,
   "id": "0cf535a4",
   "metadata": {},
   "outputs": [
    {
     "ename": "TypeError",
     "evalue": "unsupported operand type(s) for +: 'int' and 'Time'",
     "output_type": "error",
     "traceback": [
      "\u001b[1;31m---------------------------------------------------------------------------\u001b[0m",
      "\u001b[1;31mTypeError\u001b[0m                                 Traceback (most recent call last)",
      "\u001b[1;32m<ipython-input-107-f808e24131be>\u001b[0m in \u001b[0;36m<module>\u001b[1;34m\u001b[0m\n\u001b[1;32m----> 1\u001b[1;33m \u001b[0mprint\u001b[0m\u001b[1;33m(\u001b[0m\u001b[1;36m1337\u001b[0m \u001b[1;33m+\u001b[0m \u001b[0mstart\u001b[0m\u001b[1;33m)\u001b[0m\u001b[1;33m\u001b[0m\u001b[1;33m\u001b[0m\u001b[0m\n\u001b[0m",
      "\u001b[1;31mTypeError\u001b[0m: unsupported operand type(s) for +: 'int' and 'Time'"
     ]
    }
   ],
   "source": [
    "print(1337 + start)"
   ]
  },
  {
   "cell_type": "markdown",
   "id": "4b5e8ca8",
   "metadata": {},
   "source": [
    "<b>슬프게도 교환법칙은 성립하지 않습니다.  \n",
    "파이썬은 Time 오브젝트에 int를 더하는 법은 알지만  \n",
    "int에 Time 오브젝트를 더하는 법은 아직 모르기 때문이죠</b>"
   ]
  },
  {
   "cell_type": "markdown",
   "id": "e4de23ab",
   "metadata": {},
   "source": [
    "<b>이를 위한 특별한 메서드 \\_\\_radd\\_\\_가 있습니다.  \n",
    "radd는 right-side-add의 줄인말이에요  \n",
    "이 메서드는 클래스의 오브젝트가 +연산자의 우측에 나타날 때 호출됩니다.</b>"
   ]
  },
  {
   "cell_type": "code",
   "execution_count": 108,
   "id": "2c8de0ed",
   "metadata": {},
   "outputs": [],
   "source": [
    "class Time:\n",
    "    def __init__(self, hour=0, minute=0, second=0):\n",
    "        self.hour = hour\n",
    "        self.minute = minute\n",
    "        self.second = second\n",
    "        \n",
    "    def __str__(self):\n",
    "        return (\"{:>02}:{:>02}:{:02}\".format(self.hour, self.minute, self.second))\n",
    "    \n",
    "    def __add__(self, other):\n",
    "        if isinstance(other, Time):\n",
    "            return self.add_time(other)\n",
    "        else:\n",
    "            return self.increment(other)\n",
    "    def __radd__(self, other):\n",
    "        return self.__add__(other)\n",
    "        \n",
    "    def add_time(self, other):\n",
    "        seconds = self.time_to_int() + other.time_to_int()\n",
    "        return int_to_time(seconds)\n",
    "    def increment(self, seconds):\n",
    "        seconds += self.time_to_int()\n",
    "        return int_to_time(seconds)\n",
    "    \n",
    "    def time_to_int(self):\n",
    "        minutes = self.hour * 60 + self.minute\n",
    "        seconds = minutes * 60 + self.second\n",
    "        return seconds\n",
    "\n",
    "    def is_after(self, other):\n",
    "        return self.time_to_int() > other.time_to_int()"
   ]
  },
  {
   "cell_type": "code",
   "execution_count": 109,
   "id": "5e5eda1e",
   "metadata": {},
   "outputs": [],
   "source": [
    "start = Time(9, 45)"
   ]
  },
  {
   "cell_type": "code",
   "execution_count": 110,
   "id": "0fac3369",
   "metadata": {},
   "outputs": [
    {
     "name": "stdout",
     "output_type": "stream",
     "text": [
      "10:07:17\n"
     ]
    }
   ],
   "source": [
    "print(1337 + start)"
   ]
  },
  {
   "cell_type": "markdown",
   "id": "5a496164",
   "metadata": {},
   "source": [
    "<br><br>\n",
    "<b>연습 겸, 포인트와 tuple에 대해 적용되는 덧셈 메서드를 포인트 클래스에 추가해보세요</b>"
   ]
  },
  {
   "cell_type": "code",
   "execution_count": 111,
   "id": "82c7d83a",
   "metadata": {},
   "outputs": [],
   "source": [
    "class Point:\n",
    "    def __init__(self, x, y):\n",
    "        self.x = x\n",
    "        self.y = y\n",
    "    def __str__(self):\n",
    "        return str((self.x, self.y))\n",
    "    def __add__(self, other):\n",
    "        if isinstance(other, Point):\n",
    "            sum = Point(self.x + other.x, self.y + other.y)\n",
    "            return sum\n",
    "        else:\n",
    "            sum = Point(self.x + other[0], self.y + other[1])\n",
    "            return sum\n",
    "    def radd(self, other):\n",
    "        return self.__add__(other)"
   ]
  },
  {
   "cell_type": "code",
   "execution_count": 112,
   "id": "94edc0d9",
   "metadata": {},
   "outputs": [],
   "source": [
    "P1 = Point(3, 5)"
   ]
  },
  {
   "cell_type": "code",
   "execution_count": 113,
   "id": "a182c41f",
   "metadata": {},
   "outputs": [],
   "source": [
    "P2 = Point(6, 4)"
   ]
  },
  {
   "cell_type": "code",
   "execution_count": 115,
   "id": "088a6c87",
   "metadata": {},
   "outputs": [
    {
     "name": "stdout",
     "output_type": "stream",
     "text": [
      "(9, 9)\n"
     ]
    }
   ],
   "source": [
    "print(P1 + P2)"
   ]
  },
  {
   "cell_type": "code",
   "execution_count": 116,
   "id": "7f2d5aad",
   "metadata": {},
   "outputs": [
    {
     "name": "stdout",
     "output_type": "stream",
     "text": [
      "(9, 9)\n"
     ]
    }
   ],
   "source": [
    "print(P1 + (6, 4))"
   ]
  },
  {
   "cell_type": "markdown",
   "id": "07f70709",
   "metadata": {},
   "source": [
    "<br><br>"
   ]
  },
  {
   "cell_type": "markdown",
   "id": "7dce69ce",
   "metadata": {},
   "source": [
    "---\n",
    "### 8. 다형성"
   ]
  },
  {
   "cell_type": "markdown",
   "id": "36041f0c",
   "metadata": {},
   "source": [
    "<br><br>\n",
    "<b>타입 기반 디스패치는 상당히 유용하지만, 언제나 필수적인건 아니에요.  \n",
    "다양한 타입을 가지는 인자들에 대해 잘 작동하는 함수를 사용함으로서 피할 수 있져/</b>"
   ]
  },
  {
   "cell_type": "markdown",
   "id": "8cf1d670",
   "metadata": {},
   "source": [
    "<br><br>\n",
    "<b>문자열에 관한 함수는 다른 배열에 대해서도 작동할 떄가 만아요  \n",
    "이전에 작성했던 이런 함수처럼 말이죠</b>"
   ]
  },
  {
   "cell_type": "code",
   "execution_count": 117,
   "id": "3864f4ad",
   "metadata": {},
   "outputs": [],
   "source": [
    "def histogram(s):\n",
    "    d = dict()\n",
    "    for c in s:\n",
    "        if c not in d:\n",
    "            d[c] = 1\n",
    "        else:\n",
    "            d[c] = d[c] + 1\n",
    "    return d"
   ]
  },
  {
   "cell_type": "markdown",
   "id": "f57aced6",
   "metadata": {},
   "source": [
    "<b>이 함수는 리스트, 튜플, 심지어는 딕셔너리까지도 인자로 받을 수 있어용  \n",
    "s의 element가 key에 들어갈 수 있는, 해시 가능하단 조건 하에 말이죵</b>"
   ]
  },
  {
   "cell_type": "markdown",
   "id": "f820419d",
   "metadata": {},
   "source": [
    "<b>이런식으로 다양한 타입에 대해 적용될 수 있는 함수를 다형성을 갖고있따 합니당  \n",
    "영어로는 Polymorphic이라고 해요  \n",
    "이런식의 함수는 재사용성이 매우 높져</b>"
   ]
  },
  {
   "cell_type": "markdown",
   "id": "25e6d4db",
   "metadata": {},
   "source": [
    "<br><br>\n",
    "<b>배열의 모든 요소를 더해주는 내장함수 sum()도 다형적이라 할 수 있져</b>"
   ]
  },
  {
   "cell_type": "code",
   "execution_count": 118,
   "id": "df96163f",
   "metadata": {},
   "outputs": [],
   "source": [
    "t1 = Time(7, 43)"
   ]
  },
  {
   "cell_type": "code",
   "execution_count": 119,
   "id": "d12ede61",
   "metadata": {},
   "outputs": [],
   "source": [
    "t2 = Time(7, 41)"
   ]
  },
  {
   "cell_type": "code",
   "execution_count": 120,
   "id": "2d38337e",
   "metadata": {},
   "outputs": [],
   "source": [
    "t3 = Time(7, 37)"
   ]
  },
  {
   "cell_type": "code",
   "execution_count": 121,
   "id": "f4c24d09",
   "metadata": {},
   "outputs": [],
   "source": [
    "total = sum([t1, t2, t3])"
   ]
  },
  {
   "cell_type": "code",
   "execution_count": 122,
   "id": "27b17ea2",
   "metadata": {},
   "outputs": [
    {
     "name": "stdout",
     "output_type": "stream",
     "text": [
      "23:01:00\n"
     ]
    }
   ],
   "source": [
    "print(total)"
   ]
  },
  {
   "cell_type": "markdown",
   "id": "d532700f",
   "metadata": {},
   "source": [
    "<b>일반적으로, 함수 안에 존재하는 모든 연산자가 특정 타입에 대해 성립하면,  \n",
    "그로 이루어진 함수도 특정 타입에 대해 잘 작동한다 할 수 있어요  \n",
    "sum()함수에 존재하는 + 연산에 대해서 Time 클래스 간의 +연산이 정의되어 있기때문에  \n",
    "Time 클래스의 sum() 연산이 가능한것이죵</b>"
   ]
  },
  {
   "cell_type": "markdown",
   "id": "f1b398f7",
   "metadata": {},
   "source": [
    "---\n",
    "### 9. 디버깅"
   ]
  },
  {
   "cell_type": "markdown",
   "id": "c92e9b2b",
   "metadata": {},
   "source": [
    "<br><br>\n",
    "<b>오브젝트에 어트리뷰트를 언제 넣느냐는 프로그래머의 마음이지만,  \n",
    "같은 타입의 오브젝트인데 같은 어트리뷰트를 가지고 있지 않다면, 오류가 나기 쉬워요  \n",
    "그래서 init 메서드를 통해 오브젝트에 어트리뷰트를 넣어주고 시작하는 것이 도움이 됩니다.</b>"
   ]
  },
  {
   "cell_type": "markdown",
   "id": "0c1ea792",
   "metadata": {},
   "source": [
    "<br><br>\n",
    "<b>오브젝트가 특정 어트리뷰트를 가지고 있는지 궁금하다면 내장함수 hasattr를 사용하세요</b>"
   ]
  },
  {
   "cell_type": "markdown",
   "id": "c7956c3c",
   "metadata": {},
   "source": [
    "<br><br>\n",
    "<b>혹은 오브젝트의 어트리뷰트를 딧셔너리로 매핑하여 보여주는 내장함수  \n",
    "vars()가 도움이 될 수 있습니다.</b>"
   ]
  },
  {
   "cell_type": "code",
   "execution_count": 123,
   "id": "0326555b",
   "metadata": {},
   "outputs": [],
   "source": [
    "p = Point(3, 4)"
   ]
  },
  {
   "cell_type": "code",
   "execution_count": 124,
   "id": "425e400a",
   "metadata": {},
   "outputs": [
    {
     "data": {
      "text/plain": [
       "{'x': 3, 'y': 4}"
      ]
     },
     "execution_count": 124,
     "metadata": {},
     "output_type": "execute_result"
    }
   ],
   "source": [
    "vars(p)"
   ]
  },
  {
   "cell_type": "markdown",
   "id": "33556df5",
   "metadata": {},
   "source": [
    "<br><br>\n",
    "<b>디버깅을 위해서 이런 함수를 정의해놓고 사용해보세요</b>"
   ]
  },
  {
   "cell_type": "code",
   "execution_count": 125,
   "id": "a555fa74",
   "metadata": {},
   "outputs": [],
   "source": [
    "def print_attributes(obj):\n",
    "    for attr in vars(obj):\n",
    "        print(attr, getattr(obj, attr))"
   ]
  },
  {
   "cell_type": "markdown",
   "id": "9b2648da",
   "metadata": {},
   "source": [
    "<br><br><br><br>\n",
    "<b>End of The Chapter.</b>"
   ]
  },
  {
   "cell_type": "code",
   "execution_count": null,
   "id": "b5e1d8fa",
   "metadata": {},
   "outputs": [],
   "source": []
  }
 ],
 "metadata": {
  "kernelspec": {
   "display_name": "Python 3",
   "language": "python",
   "name": "python3"
  },
  "language_info": {
   "codemirror_mode": {
    "name": "ipython",
    "version": 3
   },
   "file_extension": ".py",
   "mimetype": "text/x-python",
   "name": "python",
   "nbconvert_exporter": "python",
   "pygments_lexer": "ipython3",
   "version": "3.8.8"
  }
 },
 "nbformat": 4,
 "nbformat_minor": 5
}
