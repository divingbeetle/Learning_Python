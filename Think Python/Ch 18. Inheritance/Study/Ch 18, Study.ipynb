{
 "cells": [
  {
   "cell_type": "markdown",
   "id": "21ea8ed0",
   "metadata": {},
   "source": [
    "# Ch. 18 상속"
   ]
  },
  {
   "cell_type": "markdown",
   "id": "4609aed7",
   "metadata": {},
   "source": [
    "<br><br>\n",
    "<b>상속이란 기존의 존재하는 클래스의 변경된 버전의 클래스를 정의하는 방법입니다.  \n",
    "이번 18장에서는 포커카드, 포커 손패, 포커 덱을 통해 상속을 공부해볼게용</b><br><br>"
   ]
  },
  {
   "cell_type": "markdown",
   "id": "9f7d9e48",
   "metadata": {},
   "source": [
    "---\n",
    "### 1. 카드 오브젝트"
   ]
  },
  {
   "cell_type": "markdown",
   "id": "4574a1f3",
   "metadata": {},
   "source": [
    "<br><br>\n",
    "<b>카드 뭉치 하나에는 52개의 카드가 존재해용,  \n",
    "카드는 4개의 카드모양과 13개의 카드 숫자가 있지요</b>"
   ]
  },
  {
   "cell_type": "markdown",
   "id": "57f264fd",
   "metadata": {},
   "source": [
    "<b>카드 모양을 나타내는 오브젝트를 정의하고 싶다면, 무엇을 어트리뷰트로 만들지는 뻔합니당  \n",
    "    카드 모양(suit)과 카드의 순서(rank)겠죠</b>"
   ]
  },
  {
   "cell_type": "markdown",
   "id": "8f059c09",
   "metadata": {},
   "source": [
    "<b>그러나 카드의 모양과 순서를 어떤 타입의 정보로 표현할것 인지는, 뻔하지 않습니다.  \n",
    "스페이드 모양을 Spade, 퀸을 Queen이라고 하는 방식은 직관적이지만,  \n",
    "   카드의 모양과 순서를 비교하는데에는 적합하지 않지요</b>"
   ]
  },
  {
   "cell_type": "markdown",
   "id": "d635f907",
   "metadata": {},
   "source": [
    "<b>한가지 방법은 카드의 순서와 모양을 숫자로 바꾸어서 나타내는, 인코딩 방식입니다.  \n",
    "스페이드, 하트, 다이아몬드, 클럽 을 각각 (3,2,1,0)으로 나타내는거죠  \n",
    "13개의 카드 순서의 경우 숫자는 그대로 사용하고 J, Q, K를 각 11,12,13이라 하는겁니다</b>"
   ]
  },
  {
   "cell_type": "code",
   "execution_count": 1,
   "id": "6576c1c5",
   "metadata": {},
   "outputs": [],
   "source": [
    "class Card:\n",
    "    \"\"\"Represents a standard playing card.\"\"\"\n",
    "    \n",
    "    def __init__(self, suit=0, rank=2):\n",
    "        self.suit = suit\n",
    "        self.rank = rank"
   ]
  },
  {
   "cell_type": "markdown",
   "id": "c3923540",
   "metadata": {},
   "source": [
    "<br><br>\n",
    "<b>init 메서드로 기본값을 설정해 주고요, 기본 카드는 클로버 2로 해봅시당</b>"
   ]
  },
  {
   "cell_type": "markdown",
   "id": "bb557d5f",
   "metadata": {},
   "source": [
    "<b>카드도 한번 만들어보죠, 다이아몬드 퀸으로요</b>"
   ]
  },
  {
   "cell_type": "code",
   "execution_count": 2,
   "id": "d0a73dcb",
   "metadata": {},
   "outputs": [],
   "source": [
    "queen_of_diamonds = Card(1, 12)"
   ]
  },
  {
   "cell_type": "markdown",
   "id": "d5b5d8c8",
   "metadata": {},
   "source": [
    "<br><br>"
   ]
  },
  {
   "cell_type": "markdown",
   "id": "d657cd2a",
   "metadata": {},
   "source": [
    "---\n",
    "### 2. 클래스 어트리뷰트"
   ]
  },
  {
   "cell_type": "markdown",
   "id": "91deef77",
   "metadata": {},
   "source": [
    "<br><br>\n",
    "<b>카드 오브젝트를 사람들이 읽기 쉬운 방식으로 표현하기 위해서,   \n",
    "우리가 만든 숫자 코드를 알려주는 매핑이 필요하겠죠.  \n",
    "  \n",
    "가장 기본적인 방식은 리스트를 사용하는건데요.  \n",
    "이러한 리스트를 클래스 어트리뷰트로 할당해봅시다.</b>"
   ]
  },
  {
   "cell_type": "code",
   "execution_count": 3,
   "id": "41700e14",
   "metadata": {},
   "outputs": [],
   "source": [
    "class Card:\n",
    "    \"\"\"Represents a standard playing card.\"\"\"\n",
    "    suit_names = ['Clubs', 'Diamonds', 'Hearts', 'Spades']\n",
    "    rank_names = [None, 'Ace', '2', '3', '4', '5', '6', '7', '8' ,'9',\n",
    "                  '10', 'Jack', 'Queen', 'King']\n",
    "    \n",
    "    def __init__(self, suit=0, rank=2):\n",
    "        self.suit = suit\n",
    "        self.rank = rank\n",
    "    def __str__(self):\n",
    "        return f'{Card.rank_names[self.rank]} of {Card.suit_names[self.suit]}'"
   ]
  },
  {
   "cell_type": "markdown",
   "id": "98b5268b",
   "metadata": {},
   "source": [
    "<br><br>\n",
    "<b>클래스의 내부, 메서드의 외부에서 정의된 suit_names와 rank_names 변수를  \n",
    "    <i>\"클래스 어트리뷰트\"</i> 라고 부릅니다</b>"
   ]
  },
  {
   "cell_type": "markdown",
   "id": "426f8885",
   "metadata": {},
   "source": [
    "<b>suit 와 rank와 같이 특정 인스턴스와 연관된 변수들을 인스턴스 어트리뷰트라고 합니다.</b>"
   ]
  },
  {
   "cell_type": "markdown",
   "id": "cd96a9d4",
   "metadata": {},
   "source": [
    "<b>모든 카드들은 자기만의 suit와 rank가 있지만,  \n",
    "suit_names와 rank_names는 각 하나밖에 존재하지 않습니다.</b>"
   ]
  },
  {
   "cell_type": "markdown",
   "id": "4856f426",
   "metadata": {},
   "source": [
    "<br><br>\n",
    "<b>이제 카드를 만들고 출력까지 할 수 있습니다.</b>"
   ]
  },
  {
   "cell_type": "code",
   "execution_count": 4,
   "id": "7650b4b8",
   "metadata": {},
   "outputs": [],
   "source": [
    "card1 = Card(2, 11)"
   ]
  },
  {
   "cell_type": "code",
   "execution_count": 5,
   "id": "cc157c3a",
   "metadata": {},
   "outputs": [
    {
     "name": "stdout",
     "output_type": "stream",
     "text": [
      "Jack of Hearts\n"
     ]
    }
   ],
   "source": [
    "print(card1)"
   ]
  },
  {
   "cell_type": "markdown",
   "id": "6ffb7ab8",
   "metadata": {},
   "source": [
    "<br><br>"
   ]
  },
  {
   "cell_type": "markdown",
   "id": "14802fa0",
   "metadata": {},
   "source": [
    "---\n",
    "### 3. 카드 비교하기"
   ]
  },
  {
   "cell_type": "markdown",
   "id": "ef2b0496",
   "metadata": {},
   "source": [
    "<br><br>\n",
    "<b>파이썬 내장함수에는 다양한 관계 연산자들이 있습니다.  \n",
    "이러한 관계 연산자를 새로운 오브젝트에 사용하기 위해 특수한 메서드를 사용해봅시다. \n",
    "      \n",
    "    \n",
    "\\_\\_lt\\_\\_ 메서드(lt for less than)는 self와 other 두개의 인자를 받아,  \n",
    "self가 other 보다 작으면 True를 반환합니다.</b>"
   ]
  },
  {
   "cell_type": "markdown",
   "id": "d3418278",
   "metadata": {},
   "source": [
    "<br><br>\n",
    "<b>카드의 순서는 어떻게 결정할까요? 이는 보통 게임마다 다르겠지만,  \n",
    "여기서는 모양이 숫자보다 중요하다고 한번 해 봅시다.</b>"
   ]
  },
  {
   "cell_type": "code",
   "execution_count": 11,
   "id": "209ab640",
   "metadata": {},
   "outputs": [],
   "source": [
    "class Card:\n",
    "    \"\"\"Represents a standard playing card.\"\"\"\n",
    "    suit_names = ['Clubs', 'Diamonds', 'Hearts', 'Spades']\n",
    "    rank_names = [None, 'Ace', '2', '3', '4', '5', '6', '7', '8' ,'9',\n",
    "                  '10', 'Jack', 'Queen', 'King']\n",
    "    \n",
    "    def __init__(self, suit=0, rank=2):\n",
    "        self.suit = suit\n",
    "        self.rank = rank\n",
    "    def __str__(self):\n",
    "        return f'{Card.rank_names[self.rank]} of {Card.suit_names[self.suit]}'\n",
    "    def __lt__(self, other):\n",
    "        t1 = self.suit, self.rank\n",
    "        t2 = other.suit, other.rank\n",
    "        return t1 < t2"
   ]
  },
  {
   "cell_type": "code",
   "execution_count": 12,
   "id": "578a1b80",
   "metadata": {},
   "outputs": [
    {
     "name": "stdout",
     "output_type": "stream",
     "text": [
      "Queen of Hearts\n"
     ]
    }
   ],
   "source": [
    "card1 = Card(2, 12)\n",
    "print(card1)"
   ]
  },
  {
   "cell_type": "code",
   "execution_count": 13,
   "id": "def8a59f",
   "metadata": {},
   "outputs": [
    {
     "name": "stdout",
     "output_type": "stream",
     "text": [
      "Jack of Spades\n"
     ]
    }
   ],
   "source": [
    "card2 = Card(3, 11)\n",
    "print(card2)"
   ]
  },
  {
   "cell_type": "code",
   "execution_count": 14,
   "id": "2bff721e",
   "metadata": {},
   "outputs": [
    {
     "data": {
      "text/plain": [
       "True"
      ]
     },
     "execution_count": 14,
     "metadata": {},
     "output_type": "execute_result"
    }
   ],
   "source": [
    "card2 > card1"
   ]
  },
  {
   "cell_type": "code",
   "execution_count": 15,
   "id": "393b3ff9",
   "metadata": {},
   "outputs": [
    {
     "data": {
      "text/plain": [
       "False"
      ]
     },
     "execution_count": 15,
     "metadata": {},
     "output_type": "execute_result"
    }
   ],
   "source": [
    "card2 < card1"
   ]
  },
  {
   "cell_type": "code",
   "execution_count": 16,
   "id": "b35d76b4",
   "metadata": {},
   "outputs": [
    {
     "data": {
      "text/plain": [
       "True"
      ]
     },
     "execution_count": 16,
     "metadata": {},
     "output_type": "execute_result"
    }
   ],
   "source": [
    "card1 < card2"
   ]
  },
  {
   "cell_type": "markdown",
   "id": "ea91ce68",
   "metadata": {},
   "source": [
    "<br><br>"
   ]
  },
  {
   "cell_type": "markdown",
   "id": "ef40ae11",
   "metadata": {},
   "source": [
    "---\n",
    "### 4. 카드 덱"
   ]
  },
  {
   "cell_type": "markdown",
   "id": "dee0d1e4",
   "metadata": {},
   "source": [
    "<br><br>\n",
    "<b>카드를 정의했으니, 이제 카드 덱을 정의해봅시다.  \n",
    "카드 덱은 여러 카드들로 만들어져 있으니, 카드리스트를 어트리뷰트로 가져도 되겠죠</b>"
   ]
  },
  {
   "cell_type": "code",
   "execution_count": 17,
   "id": "bff784f6",
   "metadata": {},
   "outputs": [],
   "source": [
    "class Deck:\n",
    "    def __init__(self):\n",
    "        self.cards = []\n",
    "        for suit in range(4):\n",
    "            for rank in range(1, 14):\n",
    "                card = Card(suit, rank)\n",
    "                self.cards.append(card)"
   ]
  },
  {
   "cell_type": "markdown",
   "id": "b685ae66",
   "metadata": {},
   "source": [
    "<br><br>\n",
    "<b>카드 덱을 프린트 해볼까요</b>"
   ]
  },
  {
   "cell_type": "code",
   "execution_count": 18,
   "id": "36792653",
   "metadata": {},
   "outputs": [],
   "source": [
    "class Deck:\n",
    "    def __init__(self):\n",
    "        self.cards = []\n",
    "        for suit in range(4):\n",
    "            for rank in range(1, 14):\n",
    "                card = Card(suit, rank)\n",
    "                self.cards.append(card)\n",
    "    def __str__(self):\n",
    "        res = []\n",
    "        for card in self.cards:\n",
    "            res.append(str(card))\n",
    "        return '\\n'.join(res)"
   ]
  },
  {
   "cell_type": "code",
   "execution_count": 19,
   "id": "79584b44",
   "metadata": {},
   "outputs": [],
   "source": [
    "deck = Deck()"
   ]
  },
  {
   "cell_type": "code",
   "execution_count": 20,
   "id": "427105a4",
   "metadata": {
    "scrolled": true
   },
   "outputs": [
    {
     "name": "stdout",
     "output_type": "stream",
     "text": [
      "Ace of Clubs\n",
      "2 of Clubs\n",
      "3 of Clubs\n",
      "4 of Clubs\n",
      "5 of Clubs\n",
      "6 of Clubs\n",
      "7 of Clubs\n",
      "8 of Clubs\n",
      "9 of Clubs\n",
      "10 of Clubs\n",
      "Jack of Clubs\n",
      "Queen of Clubs\n",
      "King of Clubs\n",
      "Ace of Diamonds\n",
      "2 of Diamonds\n",
      "3 of Diamonds\n",
      "4 of Diamonds\n",
      "5 of Diamonds\n",
      "6 of Diamonds\n",
      "7 of Diamonds\n",
      "8 of Diamonds\n",
      "9 of Diamonds\n",
      "10 of Diamonds\n",
      "Jack of Diamonds\n",
      "Queen of Diamonds\n",
      "King of Diamonds\n",
      "Ace of Hearts\n",
      "2 of Hearts\n",
      "3 of Hearts\n",
      "4 of Hearts\n",
      "5 of Hearts\n",
      "6 of Hearts\n",
      "7 of Hearts\n",
      "8 of Hearts\n",
      "9 of Hearts\n",
      "10 of Hearts\n",
      "Jack of Hearts\n",
      "Queen of Hearts\n",
      "King of Hearts\n",
      "Ace of Spades\n",
      "2 of Spades\n",
      "3 of Spades\n",
      "4 of Spades\n",
      "5 of Spades\n",
      "6 of Spades\n",
      "7 of Spades\n",
      "8 of Spades\n",
      "9 of Spades\n",
      "10 of Spades\n",
      "Jack of Spades\n",
      "Queen of Spades\n",
      "King of Spades\n"
     ]
    }
   ],
   "source": [
    "print(deck)"
   ]
  },
  {
   "cell_type": "markdown",
   "id": "af78038a",
   "metadata": {},
   "source": [
    "<br><br>"
   ]
  },
  {
   "cell_type": "markdown",
   "id": "0522ce5b",
   "metadata": {},
   "source": [
    "---\n",
    "### 5. 더하기, 빼기, 섞기, 정렬하기"
   ]
  },
  {
   "cell_type": "markdown",
   "id": "75919548",
   "metadata": {},
   "source": [
    "<br><br>\n",
    "<b>멋있는 카드 딜러가 되기 위해서는 덱에서 카드를 뽑아 반환하는 메서드를 만들 필요가 있겠죠  \n",
    "리스트 메서드 pop을 이용해서 만들어 봅시다.  \n",
    "반대로 카드를 추가하는 것은 append를 사용해 보자고요</b>"
   ]
  },
  {
   "cell_type": "code",
   "execution_count": 22,
   "id": "397c0b45",
   "metadata": {},
   "outputs": [],
   "source": [
    "class Deck:\n",
    "    def __init__(self):\n",
    "        self.cards = []\n",
    "        for suit in range(4):\n",
    "            for rank in range(1, 14):\n",
    "                card = Card(suit, rank)\n",
    "                self.cards.append(card)\n",
    "    def __str__(self):\n",
    "        res = []\n",
    "        for card in self.cards:\n",
    "            res.append(str(card))\n",
    "        return '\\n'.join(res)\n",
    "    def pop_card(self):\n",
    "        return self.cards.pop()\n",
    "    def add_card(self, card):\n",
    "        self.cards.append(card)"
   ]
  },
  {
   "cell_type": "markdown",
   "id": "b21d83ff",
   "metadata": {},
   "source": [
    "<b>이런식으로 뭐 하는것도없이 다른 메서드를 가져다 쓰기만 하는 메서드를 버니어 라고 합니다.</b>"
   ]
  },
  {
   "cell_type": "markdown",
   "id": "b6ed0dd7",
   "metadata": {},
   "source": [
    "<b>얇아보이지만 코드의 가독성과 편리함을 증가시켜주죠</b>"
   ]
  },
  {
   "cell_type": "markdown",
   "id": "b93b0b16",
   "metadata": {},
   "source": [
    "<b>이번에는 셔플과 정렬 메서드를 넣어봅시다.</b>"
   ]
  },
  {
   "cell_type": "code",
   "execution_count": 23,
   "id": "f8600e56",
   "metadata": {},
   "outputs": [],
   "source": [
    "import random"
   ]
  },
  {
   "cell_type": "code",
   "execution_count": 24,
   "id": "2b32057a",
   "metadata": {},
   "outputs": [],
   "source": [
    "class Deck:\n",
    "    def __init__(self):\n",
    "        self.cards = []\n",
    "        for suit in range(4):\n",
    "            for rank in range(1, 14):\n",
    "                card = Card(suit, rank)\n",
    "                self.cards.append(card)\n",
    "    def __str__(self):\n",
    "        res = []\n",
    "        for card in self.cards:\n",
    "            res.append(str(card))\n",
    "        return '\\n'.join(res)\n",
    "    def pop_card(self):\n",
    "        return self.cards.pop()\n",
    "    def add_card(self, card):\n",
    "        self.cards.append(card)\n",
    "    def shuffle(self):\n",
    "        random.shuffle(self.cards)\n",
    "    def sort(self):\n",
    "        self.card.sort()"
   ]
  },
  {
   "cell_type": "markdown",
   "id": "88ddbb08",
   "metadata": {},
   "source": [
    "<br><br>"
   ]
  },
  {
   "cell_type": "markdown",
   "id": "a7cd38ee",
   "metadata": {},
   "source": [
    "---\n",
    "### 6. 상속"
   ]
  },
  {
   "cell_type": "markdown",
   "id": "716a8575",
   "metadata": {},
   "source": [
    "<br><br>\n",
    "<b>플레이어가 들고 있는 카드를 나타내는 hand 클래스를 정의하고 싶다고 해봅시다.      \n",
    "    \n",
    "    \n",
    "hand는 덱과 비슷한점이 많습니다. 카드 여럿으로 구성되어있고,  \n",
    "카드를 넣기도, 빼기도 해야하죠</b>"
   ]
  },
  {
   "cell_type": "markdown",
   "id": "cec3218d",
   "metadata": {},
   "source": [
    "<b>하지만 핸드는 덱과 다른점도 있습니다.  \n",
    "핸드만이 수행해야 할 작업이 있어요  \n",
    "  \n",
    "  \n",
    "포커로 치면 두 핸드를 비교하여 승, 패를 가른다던가  \n",
    "브릿지라면 핸드의 총 점수를 계산하기도 하죠</b>"
   ]
  },
  {
   "cell_type": "markdown",
   "id": "b8500d31",
   "metadata": {},
   "source": [
    "<br><br>\n",
    "<b>이렇게 비슷하지만 다른 클래스의 관계를 표현하기 위해, 상속을 사용해봅시다.  \n",
    "기존의 존재하는 클래스를 상속받는 새로운 클래스를 정의하려면 괄호를 쓰면 됩니다.</b>"
   ]
  },
  {
   "cell_type": "code",
   "execution_count": 25,
   "id": "a44bd28c",
   "metadata": {},
   "outputs": [],
   "source": [
    "class Hand(Deck):\n",
    "    \"\"\"Represents a hand of playing cards.\"\"\""
   ]
  },
  {
   "cell_type": "markdown",
   "id": "587cdfd9",
   "metadata": {},
   "source": [
    "<br><br>\n",
    "<b>이로서 Hand는 Deck으로 부터 상속을 받는 클래스 입니다.  \n",
    "pop_card나 add_card와 같은 메서드를 사용할 수 있어요</b>"
   ]
  },
  {
   "cell_type": "markdown",
   "id": "fbbfe9b5",
   "metadata": {},
   "source": [
    "<br><br>\n",
    "<b>클래스의 상속이 일어날때, 기존의 존재하던 클래스는 부모 클래스가 되고,  \n",
    "상속을 받은 클래스는 자식 클래스가 됩니다. 그럴듯하죠</b>"
   ]
  },
  {
   "cell_type": "markdown",
   "id": "1d557853",
   "metadata": {},
   "source": [
    "<br><br>\n",
    "<b>Hand가 상속받은 메서드 중에는 init 메서드도 있습니다. 이건 좋지 못하죠  \n",
    "    \n",
    "핸드에 52개의 카드를 꾸겨넣어 버리는 결과가 일어나니까요.  <br><br>\n",
    "자식 클래스에 새로운 init 메서드를 정의하면, Deck 클래스의 메서드를 덮어씌울 수 있습니다.</b>"
   ]
  },
  {
   "cell_type": "code",
   "execution_count": 26,
   "id": "b497a0bf",
   "metadata": {},
   "outputs": [],
   "source": [
    "class Hand(Deck):\n",
    "    \"\"\"Represents a hand of playing cards.\"\"\"\n",
    "    \n",
    "    def __init__(self, lable=''):\n",
    "        self.cards = []\n",
    "        self.lable = lable"
   ]
  },
  {
   "cell_type": "code",
   "execution_count": 27,
   "id": "98371b17",
   "metadata": {},
   "outputs": [],
   "source": [
    "hand = Hand('new hand')"
   ]
  },
  {
   "cell_type": "code",
   "execution_count": 28,
   "id": "9aac7cca",
   "metadata": {},
   "outputs": [
    {
     "data": {
      "text/plain": [
       "[]"
      ]
     },
     "execution_count": 28,
     "metadata": {},
     "output_type": "execute_result"
    }
   ],
   "source": [
    "hand.cards"
   ]
  },
  {
   "cell_type": "code",
   "execution_count": 29,
   "id": "7d8e6358",
   "metadata": {},
   "outputs": [
    {
     "data": {
      "text/plain": [
       "'new hand'"
      ]
     },
     "execution_count": 29,
     "metadata": {},
     "output_type": "execute_result"
    }
   ],
   "source": [
    "hand.lable"
   ]
  },
  {
   "cell_type": "markdown",
   "id": "3783bed7",
   "metadata": {},
   "source": [
    "<br><br>\n",
    "<b>카드 딜링을 해볼까요</b>"
   ]
  },
  {
   "cell_type": "code",
   "execution_count": 30,
   "id": "0620f64c",
   "metadata": {},
   "outputs": [],
   "source": [
    "deck = Deck()"
   ]
  },
  {
   "cell_type": "code",
   "execution_count": 31,
   "id": "45e2a08a",
   "metadata": {},
   "outputs": [],
   "source": [
    "card = deck.pop_card()"
   ]
  },
  {
   "cell_type": "code",
   "execution_count": 32,
   "id": "701c93db",
   "metadata": {},
   "outputs": [],
   "source": [
    "hand.add_card(card)"
   ]
  },
  {
   "cell_type": "code",
   "execution_count": 33,
   "id": "b0a8d1ea",
   "metadata": {},
   "outputs": [
    {
     "name": "stdout",
     "output_type": "stream",
     "text": [
      "King of Spades\n"
     ]
    }
   ],
   "source": [
    "print(hand)"
   ]
  },
  {
   "cell_type": "markdown",
   "id": "56eb0b19",
   "metadata": {},
   "source": [
    "<br><br>\n",
    "<b>다소 번거로우니 만큼 수정을 해봅시다.</b>"
   ]
  },
  {
   "cell_type": "code",
   "execution_count": 34,
   "id": "9475f403",
   "metadata": {},
   "outputs": [],
   "source": [
    "class Deck:\n",
    "    def __init__(self):\n",
    "        self.cards = []\n",
    "        for suit in range(4):\n",
    "            for rank in range(1, 14):\n",
    "                card = Card(suit, rank)\n",
    "                self.cards.append(card)\n",
    "    def __str__(self):\n",
    "        res = []\n",
    "        for card in self.cards:\n",
    "            res.append(str(card))\n",
    "        return '\\n'.join(res)\n",
    "    def pop_card(self):\n",
    "        return self.cards.pop()\n",
    "    def add_card(self, card):\n",
    "        self.cards.append(card)\n",
    "    def shuffle(self):\n",
    "        random.shuffle(self.cards)\n",
    "    def sort(self):\n",
    "        self.card.sort()\n",
    "        \n",
    "    def move_cards(self, hand, num):\n",
    "        for i in range(num):\n",
    "            hand.add_card(self.pop_card())"
   ]
  },
  {
   "cell_type": "markdown",
   "id": "c6f4ced9",
   "metadata": {},
   "source": [
    "<br><br>\n",
    "<b>move_card의 무서운 점은 핸드에서 핸드로, 핸드에서 덱으로, 덱에서 핸드로... 등  \n",
    "다양한 동작을 수행할 수 있는 메서드라는 것입니다.</b>"
   ]
  },
  {
   "cell_type": "markdown",
   "id": "5bab6707",
   "metadata": {},
   "source": [
    "<br><br>\n",
    "<b>반복적인 코드를 간단하게 해주고, 그 동작을 현실과 비슷한 방식으로 구현해 낼 수 있는게  \n",
    "상속의 특수한 이점입니다.</b>"
   ]
  },
  {
   "cell_type": "markdown",
   "id": "2197b2a2",
   "metadata": {},
   "source": [
    "<b>단 필요한 코드의 정의가 어디있는지 찾기 어려울 수 있다는 점이 단점이기도 하죠</b>"
   ]
  },
  {
   "cell_type": "markdown",
   "id": "e3cddc4b",
   "metadata": {},
   "source": [
    "<br><br>"
   ]
  },
  {
   "cell_type": "markdown",
   "id": "32c1ea27",
   "metadata": {},
   "source": [
    "---\n",
    "### 7. 디버깅"
   ]
  },
  {
   "cell_type": "markdown",
   "id": "9e461c1d",
   "metadata": {},
   "source": [
    "<br><br>\n",
    "<b>상속을 쓰다보면 디버깅이 어려워 기지도 합니다.  \n",
    "오브젝트의 메서드를 호출할때, 어떤 메서드가 호출될지 햇갈리곤 하거든요  \n",
    "</b>"
   ]
  },
  {
   "cell_type": "markdown",
   "id": "fad6fa05",
   "metadata": {},
   "source": [
    "<br><br>\n",
    "<b>그럴땐 메서드마다 print()문을사용하거나,  \n",
    "혹은 다음과 같은 함수를 도입해보세요</b>"
   ]
  },
  {
   "cell_type": "code",
   "execution_count": 35,
   "id": "63aa3d28",
   "metadata": {},
   "outputs": [],
   "source": [
    "def find_defining_class(obj, meth_name):\n",
    "    for ty in type(obj).mro():\n",
    "        if meth_name in ty.__dict__:\n",
    "            return ty"
   ]
  },
  {
   "cell_type": "code",
   "execution_count": 36,
   "id": "68ea8b27",
   "metadata": {},
   "outputs": [],
   "source": [
    "hand = Hand()"
   ]
  },
  {
   "cell_type": "code",
   "execution_count": 37,
   "id": "30bbf939",
   "metadata": {},
   "outputs": [
    {
     "data": {
      "text/plain": [
       "__main__.Deck"
      ]
     },
     "execution_count": 37,
     "metadata": {},
     "output_type": "execute_result"
    }
   ],
   "source": [
    "find_defining_class(hand, 'shuffle')"
   ]
  },
  {
   "cell_type": "markdown",
   "id": "945b2fa2",
   "metadata": {},
   "source": [
    "<br><br>\n",
    "<b>MRO는 Method Resoultion Order의 약자로, 파이썬이 메서드 이름을 resolve 하기위해  \n",
    "탐색하는 클래스들의 목록입니다.</b>  \n"
   ]
  },
  {
   "cell_type": "markdown",
   "id": "e63fd6ee",
   "metadata": {},
   "source": [
    "<br><br>\n",
    "<b>프로그래밍을 할때, 메서드를 덮어쒸울 일이 있다면, 메서드의 인자, 반환값, 사용조건  \n",
    "등등을 기존의 메서드와 똑같이 맞추는걸 추천합니다. 오류를 줄이기 위해서요 </b>"
   ]
  },
  {
   "cell_type": "markdown",
   "id": "250650e9",
   "metadata": {},
   "source": [
    "<br><br>"
   ]
  },
  {
   "cell_type": "markdown",
   "id": "0375b21d",
   "metadata": {},
   "source": [
    "---\n",
    "### 8. 데이터 캡슐화"
   ]
  },
  {
   "cell_type": "markdown",
   "id": "9ecdec26",
   "metadata": {},
   "source": [
    "<br><br>\n",
    "<b>전역 변수가 필요한 프로그램을 작성해야 할 때가 있지요</b>"
   ]
  },
  {
   "cell_type": "markdown",
   "id": "29ce86b5",
   "metadata": {},
   "source": [
    "<b>이러한 프로그램의 문제는 그것이 '전역'변수이기 떄문에,  \n",
    "한번에 하나씩 밖에 동작하지 못한다는 겁니다.</b>"
   ]
  },
  {
   "cell_type": "markdown",
   "id": "6970c120",
   "metadata": {},
   "source": [
    "<br><br>\n",
    "<b>이 경우, 관련 변수들을 오브젝트의 어트리뷰트로 저장하면,  \n",
    "    더 효율적인 프로그래밍이 가능합니다. </b>"
   ]
  },
  {
   "cell_type": "markdown",
   "id": "0fd311a2",
   "metadata": {},
   "source": [
    "<br><br><br><br>\n",
    "<b>End of The Chapter.</b>"
   ]
  },
  {
   "cell_type": "code",
   "execution_count": null,
   "id": "ea267a8c",
   "metadata": {},
   "outputs": [],
   "source": []
  }
 ],
 "metadata": {
  "kernelspec": {
   "display_name": "Python 3",
   "language": "python",
   "name": "python3"
  },
  "language_info": {
   "codemirror_mode": {
    "name": "ipython",
    "version": 3
   },
   "file_extension": ".py",
   "mimetype": "text/x-python",
   "name": "python",
   "nbconvert_exporter": "python",
   "pygments_lexer": "ipython3",
   "version": "3.8.8"
  }
 },
 "nbformat": 4,
 "nbformat_minor": 5
}
